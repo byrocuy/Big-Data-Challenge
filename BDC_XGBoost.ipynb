{
  "metadata": {
    "kernelspec": {
      "language": "python",
      "display_name": "Python 3",
      "name": "python3"
    },
    "language_info": {
      "name": "python",
      "version": "3.7.12",
      "mimetype": "text/x-python",
      "codemirror_mode": {
        "name": "ipython",
        "version": 3
      },
      "pygments_lexer": "ipython3",
      "nbconvert_exporter": "python",
      "file_extension": ".py"
    },
    "colab": {
      "provenance": []
    }
  },
  "nbformat_minor": 0,
  "nbformat": 4,
  "cells": [
    {
      "cell_type": "code",
      "source": [
        "# This Python 3 environment comes with many helpful analytics libraries installed\n",
        "# It is defined by the kaggle/python Docker image: https://github.com/kaggle/docker-python\n",
        "# For example, here's several helpful packages to load\n",
        "\n",
        "import numpy as np # linear algebra\n",
        "import pandas as pd # data processing, CSV file I/O (e.g. pd.read_csv)\n",
        "\n",
        "# Input data files are available in the read-only \"../input/\" directory\n",
        "# For example, running this (by clicking run or pressing Shift+Enter) will list all files under the input directory\n",
        "\n",
        "import os\n",
        "for dirname, _, filenames in os.walk('/kaggle/input'):\n",
        "    for filename in filenames:\n",
        "        print(os.path.join(dirname, filename))\n",
        "\n",
        "        # Import Library Machine Learning\n",
        "\n",
        "from sklearn.model_selection import train_test_split\n",
        "from sklearn.metrics import make_scorer, accuracy_score, precision_score, recall_score, f1_score\n",
        "from sklearn.model_selection import train_test_split, KFold, cross_validate, cross_val_predict\n",
        "import matplotlib.pyplot as plt\n",
        "\n",
        "from xgboost import XGBRegressor\n",
        "from xgboost import XGBClassifier\n",
        "from sklearn.model_selection import GridSearchCV\n",
        "\n",
        "from sklearn.metrics import mean_squared_error\n",
        "from sklearn.metrics import mean_absolute_error\n",
        "from sklearn.metrics import r2_score, mean_absolute_percentage_error\n",
        "\n",
        "import pandas as pd\n",
        "\n",
        "from sklearn.metrics import classification_report, confusion_matrix\n",
        "from catboost import CatBoostClassifier\n",
        "\n",
        "# You can write up to 20GB to the current directory (/kaggle/working/) that gets preserved as output when you create a version using \"Save & Run All\"\n",
        "# You can also write temporary files to /kaggle/temp/, but they won't be saved outside of the current session"
      ],
      "metadata": {
        "_uuid": "8f2839f25d086af736a60e9eeb907d3b93b6e0e5",
        "_cell_guid": "b1076dfc-b9ad-4769-8c92-a6c4dae69d19",
        "execution": {
          "iopub.status.busy": "2022-10-30T06:45:00.006609Z",
          "iopub.execute_input": "2022-10-30T06:45:00.007030Z",
          "iopub.status.idle": "2022-10-30T06:45:00.981343Z",
          "shell.execute_reply.started": "2022-10-30T06:45:00.006942Z",
          "shell.execute_reply": "2022-10-30T06:45:00.980398Z"
        },
        "trusted": true,
        "id": "ObQwapyMxcsr"
      },
      "execution_count": null,
      "outputs": []
    },
    {
      "cell_type": "code",
      "source": [
        "# Downloading Data from Gdrive\n",
        "!wget --load-cookies /tmp/cookies.txt \"https://docs.google.com/uc?export=download&confirm=$(wget --quiet --save-cookies /tmp/cookies.txt --keep-session-cookies --no-check-certificate 'https://docs.google.com/uc?export=download&id=1v8mplnWxvuHd8yk1X6bMROz7zj5oKIiK' -O- | sed -rn 's/.*confirm=([0-9A-Za-z_]+).*/\\1\\n/p')&id=1v8mplnWxvuHd8yk1X6bMROz7zj5oKIiK\" -O train.csv && rm -rf /tmp/cookies.txt"
      ],
      "metadata": {
        "execution": {
          "iopub.status.busy": "2022-10-30T06:45:00.983361Z",
          "iopub.execute_input": "2022-10-30T06:45:00.983719Z",
          "iopub.status.idle": "2022-10-30T06:45:05.518223Z",
          "shell.execute_reply.started": "2022-10-30T06:45:00.983679Z",
          "shell.execute_reply": "2022-10-30T06:45:05.517038Z"
        },
        "trusted": true,
        "id": "3u8ogLCZxcs3",
        "outputId": "54e0bcd8-3aa3-416d-b954-75bc1000fa0e"
      },
      "execution_count": null,
      "outputs": [
        {
          "name": "stdout",
          "text": "--2022-10-30 06:45:02--  https://docs.google.com/uc?export=download&confirm=t&id=1v8mplnWxvuHd8yk1X6bMROz7zj5oKIiK\nResolving docs.google.com (docs.google.com)... 172.217.203.138, 172.217.203.102, 172.217.203.139, ...\nConnecting to docs.google.com (docs.google.com)|172.217.203.138|:443... connected.\nHTTP request sent, awaiting response... 303 See Other\nLocation: https://doc-0o-bg-docs.googleusercontent.com/docs/securesc/ha0ro937gcuc7l7deffksulhg5h7mbp1/h3oog7ssugl7919ivcdon42mushan2sm/1667112300000/12463189437916965899/*/1v8mplnWxvuHd8yk1X6bMROz7zj5oKIiK?e=download&uuid=13891776-f994-4fde-b584-cd335fbde4d3 [following]\nWarning: wildcards not supported in HTTP.\n--2022-10-30 06:45:02--  https://doc-0o-bg-docs.googleusercontent.com/docs/securesc/ha0ro937gcuc7l7deffksulhg5h7mbp1/h3oog7ssugl7919ivcdon42mushan2sm/1667112300000/12463189437916965899/*/1v8mplnWxvuHd8yk1X6bMROz7zj5oKIiK?e=download&uuid=13891776-f994-4fde-b584-cd335fbde4d3\nResolving doc-0o-bg-docs.googleusercontent.com (doc-0o-bg-docs.googleusercontent.com)... 173.194.215.132, 2607:f8b0:400c:c0c::84\nConnecting to doc-0o-bg-docs.googleusercontent.com (doc-0o-bg-docs.googleusercontent.com)|173.194.215.132|:443... connected.\nHTTP request sent, awaiting response... 200 OK\nLength: 496668273 (474M) [text/csv]\nSaving to: ‘train.csv’\n\ntrain.csv           100%[===================>] 473.66M   177MB/s    in 2.7s    \n\n2022-10-30 06:45:05 (177 MB/s) - ‘train.csv’ saved [496668273/496668273]\n\n",
          "output_type": "stream"
        }
      ]
    },
    {
      "cell_type": "code",
      "source": [
        "# Downloading Data from Gdrive\n",
        "!wget --load-cookies /tmp/cookies.txt \"https://docs.google.com/uc?export=download&confirm=$(wget --quiet --save-cookies /tmp/cookies.txt --keep-session-cookies --no-check-certificate 'https://docs.google.com/uc?export=download&id=1-901MHMdKf7QqwmLzCPx6jY4k2u0cQn6' -O- | sed -rn 's/.*confirm=([0-9A-Za-z_]+).*/\\1\\n/p')&id=1-901MHMdKf7QqwmLzCPx6jY4k2u0cQn6\" -O test.csv && rm -rf /tmp/cookies.txt"
      ],
      "metadata": {
        "execution": {
          "iopub.status.busy": "2022-10-30T06:45:05.520363Z",
          "iopub.execute_input": "2022-10-30T06:45:05.520770Z",
          "iopub.status.idle": "2022-10-30T06:45:08.282540Z",
          "shell.execute_reply.started": "2022-10-30T06:45:05.520732Z",
          "shell.execute_reply": "2022-10-30T06:45:08.281203Z"
        },
        "trusted": true,
        "id": "xwCZ9_jexcs_",
        "outputId": "642fc297-aa7c-4da0-dad3-2a175cb2f4e1"
      },
      "execution_count": null,
      "outputs": [
        {
          "name": "stdout",
          "text": "--2022-10-30 06:45:06--  https://docs.google.com/uc?export=download&confirm=t&id=1-901MHMdKf7QqwmLzCPx6jY4k2u0cQn6\nResolving docs.google.com (docs.google.com)... 172.217.203.101, 172.217.203.139, 172.217.203.138, ...\nConnecting to docs.google.com (docs.google.com)|172.217.203.101|:443... connected.\nHTTP request sent, awaiting response... 303 See Other\nLocation: https://doc-08-bg-docs.googleusercontent.com/docs/securesc/ha0ro937gcuc7l7deffksulhg5h7mbp1/1q5ra004a8736jjcd0bqtkn2ruhjssen/1667112300000/12463189437916965899/*/1-901MHMdKf7QqwmLzCPx6jY4k2u0cQn6?e=download&uuid=ed5fbc00-3b88-4c81-ae46-6a8dd97b16e3 [following]\nWarning: wildcards not supported in HTTP.\n--2022-10-30 06:45:06--  https://doc-08-bg-docs.googleusercontent.com/docs/securesc/ha0ro937gcuc7l7deffksulhg5h7mbp1/1q5ra004a8736jjcd0bqtkn2ruhjssen/1667112300000/12463189437916965899/*/1-901MHMdKf7QqwmLzCPx6jY4k2u0cQn6?e=download&uuid=ed5fbc00-3b88-4c81-ae46-6a8dd97b16e3\nResolving doc-08-bg-docs.googleusercontent.com (doc-08-bg-docs.googleusercontent.com)... 173.194.215.132, 2607:f8b0:400c:c0c::84\nConnecting to doc-08-bg-docs.googleusercontent.com (doc-08-bg-docs.googleusercontent.com)|173.194.215.132|:443... connected.\nHTTP request sent, awaiting response... 200 OK\nLength: 112106437 (107M) [text/csv]\nSaving to: ‘test.csv’\n\ntest.csv            100%[===================>] 106.91M   108MB/s    in 1.0s    \n\n2022-10-30 06:45:08 (108 MB/s) - ‘test.csv’ saved [112106437/112106437]\n\n",
          "output_type": "stream"
        }
      ]
    },
    {
      "cell_type": "code",
      "source": [
        "train = pd.read_csv(\"./train.csv\")\n",
        "\n",
        "test = pd.read_csv(\"./test.csv\")"
      ],
      "metadata": {
        "execution": {
          "iopub.status.busy": "2022-10-30T06:45:08.285643Z",
          "iopub.execute_input": "2022-10-30T06:45:08.285960Z",
          "iopub.status.idle": "2022-10-30T06:45:18.062337Z",
          "shell.execute_reply.started": "2022-10-30T06:45:08.285930Z",
          "shell.execute_reply": "2022-10-30T06:45:18.060980Z"
        },
        "trusted": true,
        "id": "-9lxCLszxctB",
        "outputId": "ce549b1a-d069-4105-b98d-fc05de006ac6"
      },
      "execution_count": null,
      "outputs": [
        {
          "name": "stderr",
          "text": "/opt/conda/lib/python3.7/site-packages/IPython/core/interactiveshell.py:3552: DtypeWarning: Columns (14) have mixed types.Specify dtype option on import or set low_memory=False.\n  exec(code_obj, self.user_global_ns, self.user_ns)\n",
          "output_type": "stream"
        }
      ]
    },
    {
      "cell_type": "code",
      "source": [
        "# Mengubah tipe data tanggal datang dan pulang\n",
        "train[\"tgl_datang\"] = pd.to_datetime(train[\"tgl_datang\"], format='%Y-%m-%d')\n",
        "train[\"tgl_pulang\"] = pd.to_datetime(train[\"tgl_pulang\"], format='%Y-%m-%d')\n",
        "\n",
        "# Mengubah tipe data tanggal datang dan pulang\n",
        "test[\"tgl_datang\"] = pd.to_datetime(test[\"tgl_datang\"], format='%Y-%m-%d')\n",
        "test[\"tgl_pulang\"] = pd.to_datetime(test[\"tgl_pulang\"], format='%Y-%m-%d')"
      ],
      "metadata": {
        "execution": {
          "iopub.status.busy": "2022-10-30T06:45:18.064026Z",
          "iopub.execute_input": "2022-10-30T06:45:18.064467Z",
          "iopub.status.idle": "2022-10-30T06:45:19.780861Z",
          "shell.execute_reply.started": "2022-10-30T06:45:18.064426Z",
          "shell.execute_reply": "2022-10-30T06:45:19.779787Z"
        },
        "trusted": true,
        "id": "Ui0omAzoxctC"
      },
      "execution_count": null,
      "outputs": []
    },
    {
      "cell_type": "code",
      "source": [
        "# Menambah Kolom Lama Rawat\n",
        "train[\"lama_rawat\"] = (train[\"tgl_pulang\"]-train[\"tgl_datang\"]).dt.days.astype(int)\n",
        "test[\"lama_rawat\"] = (test[\"tgl_pulang\"]-test[\"tgl_datang\"]).dt.days.astype(int)"
      ],
      "metadata": {
        "execution": {
          "iopub.status.busy": "2022-10-30T06:45:19.782540Z",
          "iopub.execute_input": "2022-10-30T06:45:19.783146Z",
          "iopub.status.idle": "2022-10-30T06:45:19.938376Z",
          "shell.execute_reply.started": "2022-10-30T06:45:19.783106Z",
          "shell.execute_reply": "2022-10-30T06:45:19.937376Z"
        },
        "trusted": true,
        "id": "BO2tZB8pxctI"
      },
      "execution_count": null,
      "outputs": []
    },
    {
      "cell_type": "code",
      "source": [
        "# Menambah Kolom Tanggal/Bulan/Tahun\n",
        "train[\"hari\"] = train[\"tgl_datang\"].dt.dayofweek.astype(int)\n",
        "test[\"hari\"] = test[\"tgl_datang\"].dt.dayofweek.astype(int)\n",
        "\n",
        "train[\"is_weekend\"] = (train[\"tgl_datang\"].dt.dayofweek.astype(int)>5).map({True:1,False:0})\n",
        "test[\"is_weekend\"] = (test[\"tgl_datang\"].dt.dayofweek.astype(int)>5).map({True:1,False:0})\n",
        "\n",
        "train[\"haripadatahun\"] = train[\"tgl_datang\"].dt.dayofyear.astype(int)\n",
        "test[\"haripadatahun\"] = test[\"tgl_datang\"].dt.dayofyear.astype(int)\n",
        "\n",
        "train[\"pekanpadatahun\"] = train[\"tgl_datang\"].dt.weekofyear.astype(int)\n",
        "test[\"pekanpadatahun\"] = test[\"tgl_datang\"].dt.weekofyear.astype(int)\n",
        "\n",
        "train[\"tanggal\"] = train[\"tgl_datang\"].dt.day.astype(int)\n",
        "test[\"tanggal\"] = test[\"tgl_datang\"].dt.day.astype(int)\n",
        "\n",
        "train[\"bulan\"] = train[\"tgl_datang\"].dt.month.astype(int)\n",
        "test[\"bulan\"] = test[\"tgl_datang\"].dt.month.astype(int)\n",
        "\n",
        "train[\"tahun\"] = train[\"tgl_datang\"].dt.year.astype(int)\n",
        "test[\"tahun\"] = test[\"tgl_datang\"].dt.year.astype(int)\n",
        "\n",
        "train[\"quarter\"] = train[\"tgl_datang\"].dt.quarter.astype(int)\n",
        "test[\"quarter\"] = test[\"tgl_datang\"].dt.quarter.astype(int)"
      ],
      "metadata": {
        "execution": {
          "iopub.status.busy": "2022-10-30T06:45:19.939890Z",
          "iopub.execute_input": "2022-10-30T06:45:19.940858Z",
          "iopub.status.idle": "2022-10-30T06:45:27.375658Z",
          "shell.execute_reply.started": "2022-10-30T06:45:19.940815Z",
          "shell.execute_reply": "2022-10-30T06:45:27.374570Z"
        },
        "trusted": true,
        "id": "lIgjsyOPxctJ",
        "outputId": "9bff37a8-3080-46a1-ae34-53684cf76886"
      },
      "execution_count": null,
      "outputs": [
        {
          "name": "stderr",
          "text": "/opt/conda/lib/python3.7/site-packages/ipykernel_launcher.py:11: FutureWarning: Series.dt.weekofyear and Series.dt.week have been deprecated.  Please use Series.dt.isocalendar().week instead.\n  # This is added back by InteractiveShellApp.init_path()\n/opt/conda/lib/python3.7/site-packages/ipykernel_launcher.py:12: FutureWarning: Series.dt.weekofyear and Series.dt.week have been deprecated.  Please use Series.dt.isocalendar().week instead.\n  if sys.path[0] == \"\":\n",
          "output_type": "stream"
        }
      ]
    },
    {
      "cell_type": "code",
      "source": [
        "#Apakah dirujuk\n",
        "train[\"tidak_dirujuk\"] = np.where(train.jenis_fkr == 98, 1, 0)\n",
        "test[\"tidak_dirujuk\"] = np.where(test.jenis_fkr == 98, 1, 0)"
      ],
      "metadata": {
        "execution": {
          "iopub.status.busy": "2022-10-30T06:45:27.376993Z",
          "iopub.execute_input": "2022-10-30T06:45:27.377398Z",
          "iopub.status.idle": "2022-10-30T06:45:27.415028Z",
          "shell.execute_reply.started": "2022-10-30T06:45:27.377360Z",
          "shell.execute_reply": "2022-10-30T06:45:27.414033Z"
        },
        "trusted": true,
        "id": "h-oWbyRpxctK"
      },
      "execution_count": null,
      "outputs": []
    },
    {
      "cell_type": "code",
      "source": [
        "#Encode label\n",
        "train[\"label\"] = train[\"label\"].map({\"Belum_Sehat\":0,\"Sehat\":1})"
      ],
      "metadata": {
        "execution": {
          "iopub.status.busy": "2022-10-30T06:45:27.416588Z",
          "iopub.execute_input": "2022-10-30T06:45:27.416977Z",
          "iopub.status.idle": "2022-10-30T06:45:27.795681Z",
          "shell.execute_reply.started": "2022-10-30T06:45:27.416939Z",
          "shell.execute_reply": "2022-10-30T06:45:27.794657Z"
        },
        "trusted": true,
        "id": "JAwdNcM1xctL"
      },
      "execution_count": null,
      "outputs": []
    },
    {
      "cell_type": "code",
      "source": [
        "# Import label encoder\n",
        "from sklearn import preprocessing\n",
        "\n",
        "data = pd.concat([train,test])\n",
        "\n",
        "# label_encoder object knows how to understand word labels.\n",
        "label_encoder = preprocessing.LabelEncoder()\n",
        "data[\"kode_diag_icd\"]=data[\"kode_diag_icd\"].astype(str)\n",
        "data[\"kode_diag_icd\"]= label_encoder.fit_transform(data[\"kode_diag_icd\"])\n",
        "\n",
        "label_encoder = preprocessing.LabelEncoder()\n",
        "data[\"kode_diag\"]=data[\"kode_diag\"].astype(str)\n",
        "data[\"kode_diag\"]= label_encoder.fit_transform(data[\"kode_diag\"])\n",
        "\n",
        "train=data[(data[\"label\"]==1) | (data[\"label\"]==0)]\n",
        "test=data[(data[\"label\"]!=1) & (data[\"label\"]!=0)]\n",
        "\n",
        "test = test.drop(columns=\"label\")"
      ],
      "metadata": {
        "execution": {
          "iopub.status.busy": "2022-10-30T06:45:27.800545Z",
          "iopub.execute_input": "2022-10-30T06:45:27.800934Z",
          "iopub.status.idle": "2022-10-30T06:45:33.732167Z",
          "shell.execute_reply.started": "2022-10-30T06:45:27.800894Z",
          "shell.execute_reply": "2022-10-30T06:45:33.731011Z"
        },
        "trusted": true,
        "id": "afwJiVP1xctR"
      },
      "execution_count": null,
      "outputs": []
    },
    {
      "cell_type": "code",
      "source": [
        "train=train.drop(columns=[\"tgl_datang\",\"tgl_pulang\",\"id_peserta\",\"id_keluarga\"])\n",
        "test=test.drop(columns=[\"tgl_datang\",\"tgl_pulang\",\"id_peserta\",\"id_keluarga\"])"
      ],
      "metadata": {
        "execution": {
          "iopub.status.busy": "2022-10-30T06:45:33.733856Z",
          "iopub.execute_input": "2022-10-30T06:45:33.734273Z",
          "iopub.status.idle": "2022-10-30T06:45:34.091412Z",
          "shell.execute_reply.started": "2022-10-30T06:45:33.734231Z",
          "shell.execute_reply": "2022-10-30T06:45:34.090302Z"
        },
        "trusted": true,
        "id": "0Zj465THxctT"
      },
      "execution_count": null,
      "outputs": []
    },
    {
      "cell_type": "code",
      "source": [
        "# train=train.drop(columns=[\"tgl_datang\",\"tgl_pulang\"])\n",
        "# test=test.drop(columns=[\"tgl_datang\",\"tgl_pulang\"])"
      ],
      "metadata": {
        "execution": {
          "iopub.status.busy": "2022-10-30T06:45:34.093144Z",
          "iopub.execute_input": "2022-10-30T06:45:34.093560Z",
          "iopub.status.idle": "2022-10-30T06:45:34.099576Z",
          "shell.execute_reply.started": "2022-10-30T06:45:34.093520Z",
          "shell.execute_reply": "2022-10-30T06:45:34.098338Z"
        },
        "trusted": true,
        "id": "o74T6NR0xctU"
      },
      "execution_count": null,
      "outputs": []
    },
    {
      "cell_type": "code",
      "source": [
        "X = train.drop(columns=[\"label\"])\n",
        "y = train[\"label\"]\n",
        "\n",
        "X[\"poli_fktp\"]=X[\"poli_fktp\"].astype(int)\n",
        "test[\"poli_fktp\"]=test[\"poli_fktp\"].astype(int)"
      ],
      "metadata": {
        "execution": {
          "iopub.status.busy": "2022-10-30T06:45:34.101688Z",
          "iopub.execute_input": "2022-10-30T06:45:34.102636Z",
          "iopub.status.idle": "2022-10-30T06:45:34.409263Z",
          "shell.execute_reply.started": "2022-10-30T06:45:34.102585Z",
          "shell.execute_reply": "2022-10-30T06:45:34.408212Z"
        },
        "trusted": true,
        "id": "-ZTUyzXSxcta"
      },
      "execution_count": null,
      "outputs": []
    },
    {
      "cell_type": "code",
      "source": [
        "from sklearn.model_selection import train_test_split\n",
        "\n",
        "X_train, X_val, y_train, y_val = train_test_split(X, y, test_size=0.25, random_state=32498)"
      ],
      "metadata": {
        "execution": {
          "iopub.status.busy": "2022-10-30T06:45:34.410490Z",
          "iopub.execute_input": "2022-10-30T06:45:34.410860Z",
          "iopub.status.idle": "2022-10-30T06:45:37.009279Z",
          "shell.execute_reply.started": "2022-10-30T06:45:34.410824Z",
          "shell.execute_reply": "2022-10-30T06:45:37.008282Z"
        },
        "trusted": true,
        "id": "NfH4D9F0xctc"
      },
      "execution_count": null,
      "outputs": []
    },
    {
      "cell_type": "code",
      "source": [
        "X.info()"
      ],
      "metadata": {
        "execution": {
          "iopub.status.busy": "2022-10-30T06:45:37.010686Z",
          "iopub.execute_input": "2022-10-30T06:45:37.011335Z",
          "iopub.status.idle": "2022-10-30T06:45:37.035017Z",
          "shell.execute_reply.started": "2022-10-30T06:45:37.011288Z",
          "shell.execute_reply": "2022-10-30T06:45:37.033764Z"
        },
        "trusted": true,
        "id": "eQpUfeHFxctc",
        "outputId": "60c0055a-1a9a-4bc4-c645-a6ec2cc65db5"
      },
      "execution_count": null,
      "outputs": [
        {
          "name": "stdout",
          "text": "<class 'pandas.core.frame.DataFrame'>\nInt64Index: 4056897 entries, 0 to 4056896\nData columns (total 28 columns):\n #   Column                Dtype  \n---  ------                -----  \n 0   bobot                 float64\n 1   provinsi_fktp         int64  \n 2   kota_fktp             int64  \n 3   kepemilikan_fktp      int64  \n 4   jenis_fktp            int64  \n 5   tipe_fktp             int64  \n 6   tingkatpel_fktp       int64  \n 7   poli_fktp             int64  \n 8   segmen_peserta_fktp   int64  \n 9   kode_diag_icd         int64  \n 10  kode_diag             int64  \n 11  provinsi_fkr          int64  \n 12  kota_fkr              int64  \n 13  kepemilikan_fkr       int64  \n 14  jenis_fkr             int64  \n 15  tipe_fkr              int64  \n 16  poli_fkr              int64  \n 17  jenis_kunjungan_fktp  int64  \n 18  lama_rawat            int64  \n 19  hari                  int64  \n 20  is_weekend            int64  \n 21  haripadatahun         int64  \n 22  pekanpadatahun        int64  \n 23  tanggal               int64  \n 24  bulan                 int64  \n 25  tahun                 int64  \n 26  quarter               int64  \n 27  tidak_dirujuk         int64  \ndtypes: float64(1), int64(27)\nmemory usage: 897.6 MB\n",
          "output_type": "stream"
        }
      ]
    },
    {
      "cell_type": "code",
      "source": [
        "#XGBDefault\n",
        "xgb = XGBClassifier(tree_method='gpu_hist')\n",
        "xgb.fit(X_train, y_train)\n",
        "y_pred_xgb= xgb.predict(X_val)\n",
        "print(classification_report(y_val, y_pred_xgb,digits=5))"
      ],
      "metadata": {
        "execution": {
          "iopub.status.busy": "2022-10-30T06:45:37.036676Z",
          "iopub.execute_input": "2022-10-30T06:45:37.038252Z",
          "iopub.status.idle": "2022-10-30T06:45:50.755468Z",
          "shell.execute_reply.started": "2022-10-30T06:45:37.038199Z",
          "shell.execute_reply": "2022-10-30T06:45:50.754271Z"
        },
        "trusted": true,
        "id": "UWVsz0egxctd",
        "outputId": "8eb6d820-4413-4a28-fa1f-66e7c6292b4d"
      },
      "execution_count": null,
      "outputs": [
        {
          "name": "stdout",
          "text": "              precision    recall  f1-score   support\n\n         0.0    0.99963   0.99943   0.99953    658957\n         1.0    0.99895   0.99932   0.99913    355268\n\n    accuracy                        0.99939   1014225\n   macro avg    0.99929   0.99938   0.99933   1014225\nweighted avg    0.99939   0.99939   0.99939   1014225\n\n",
          "output_type": "stream"
        }
      ]
    },
    {
      "cell_type": "code",
      "source": [
        "import seaborn as sn\n",
        "import matplotlib.pyplot as plt\n",
        "\n",
        "confusion_mtx = confusion_matrix(y_val, y_pred_xgb)\n",
        "\n",
        "ax = plt.axes()\n",
        "sn.heatmap(confusion_mtx, annot=True,ax=ax, cmap=plt.cm.Greens,fmt=\"d\")\n",
        "plt.show()"
      ],
      "metadata": {
        "execution": {
          "iopub.status.busy": "2022-10-30T06:45:50.758068Z",
          "iopub.execute_input": "2022-10-30T06:45:50.758976Z",
          "iopub.status.idle": "2022-10-30T06:45:51.955311Z",
          "shell.execute_reply.started": "2022-10-30T06:45:50.758927Z",
          "shell.execute_reply": "2022-10-30T06:45:51.954127Z"
        },
        "trusted": true,
        "id": "qmudAqRYxctk",
        "outputId": "cc586703-760e-4360-8b62-3f3b71a2fa00"
      },
      "execution_count": null,
      "outputs": [
        {
          "output_type": "display_data",
          "data": {
            "text/plain": "<Figure size 432x288 with 2 Axes>",
            "image/png": "[encoded data removed]"
          },
          "metadata": {
            "needs_background": "light"
          }
        }
      ]
    },
    {
      "cell_type": "code",
      "source": [
        "#XGBScalePosWeight\n",
        "xgb2 = XGBClassifier(tree_method='gpu_hist',scale_pos_weight=1.85481664546)\n",
        "xgb2.fit(X_train, y_train)\n",
        "y_pred_xgb= xgb2.predict(X_val)\n",
        "print(classification_report(y_val, y_pred_xgb,digits=5))"
      ],
      "metadata": {
        "execution": {
          "iopub.status.busy": "2022-10-30T06:45:51.956691Z",
          "iopub.execute_input": "2022-10-30T06:45:51.957198Z",
          "iopub.status.idle": "2022-10-30T06:46:01.770458Z",
          "shell.execute_reply.started": "2022-10-30T06:45:51.957159Z",
          "shell.execute_reply": "2022-10-30T06:46:01.769296Z"
        },
        "trusted": true,
        "id": "kb_5aj7Rxctl",
        "outputId": "78d2a477-9d56-445b-f31b-432f076e0354"
      },
      "execution_count": null,
      "outputs": [
        {
          "name": "stdout",
          "text": "              precision    recall  f1-score   support\n\n         0.0    0.99981   0.99917   0.99949    658957\n         1.0    0.99845   0.99965   0.99905    355268\n\n    accuracy                        0.99933   1014225\n   macro avg    0.99913   0.99941   0.99927   1014225\nweighted avg    0.99934   0.99933   0.99933   1014225\n\n",
          "output_type": "stream"
        }
      ]
    },
    {
      "cell_type": "code",
      "source": [
        "import seaborn as sn\n",
        "import matplotlib.pyplot as plt\n",
        "\n",
        "confusion_mtx = confusion_matrix(y_val, y_pred_xgb)\n",
        "\n",
        "ax = plt.axes()\n",
        "sn.heatmap(confusion_mtx, annot=True,ax=ax, cmap=plt.cm.Greens,fmt=\"d\")\n",
        "plt.show()"
      ],
      "metadata": {
        "execution": {
          "iopub.status.busy": "2022-10-30T06:46:01.772192Z",
          "iopub.execute_input": "2022-10-30T06:46:01.772871Z",
          "iopub.status.idle": "2022-10-30T06:46:02.882040Z",
          "shell.execute_reply.started": "2022-10-30T06:46:01.772829Z",
          "shell.execute_reply": "2022-10-30T06:46:02.881020Z"
        },
        "trusted": true,
        "id": "cww1Pys1xctm",
        "outputId": "703f2ad6-adeb-4c3a-c7cf-811fcb69d713"
      },
      "execution_count": null,
      "outputs": [
        {
          "output_type": "display_data",
          "data": {
            "text/plain": "<Figure size 432x288 with 2 Axes>",
            "image/png": "[encoded data removed]"
          },
          "metadata": {
            "needs_background": "light"
          }
        }
      ]
    },
    {
      "cell_type": "code",
      "source": [
        "# OrderedDict([('colsample_bytree', 0.15569361722252437),\n",
        "#              ('learning_rate', 0.7899908604656738),\n",
        "#              ('max_depth', 2),\n",
        "#              ('min_child_weight', 0.37591294734973124),\n",
        "#              ('n_estimators', 2025),\n",
        "#              ('reg_alpha', 76.19673390459751),\n",
        "#              ('reg_lambda', 85.3733612786091),\n",
        "#              ('scale_pos_weight', 1.0436905638007108),\n",
        "#              ('subsample', 0.8999097103727699)])"
      ],
      "metadata": {
        "execution": {
          "iopub.status.busy": "2022-10-30T06:46:02.883821Z",
          "iopub.execute_input": "2022-10-30T06:46:02.884275Z",
          "iopub.status.idle": "2022-10-30T06:46:02.890288Z",
          "shell.execute_reply.started": "2022-10-30T06:46:02.884234Z",
          "shell.execute_reply": "2022-10-30T06:46:02.887906Z"
        },
        "trusted": true,
        "id": "U6cTk-p-xcts"
      },
      "execution_count": null,
      "outputs": []
    },
    {
      "cell_type": "code",
      "source": [
        "# OrderedDict([('colsample_bytree', 0.9800746585396013),\n",
        "#              ('learning_rate', 0.457783799773815),\n",
        "#              ('max_depth', 9),\n",
        "#              ('min_child_weight', 1.0),\n",
        "#              ('n_estimators', 914),\n",
        "#              ('reg_alpha', 1e-09),\n",
        "#              ('reg_lambda', 47.5195350807618),\n",
        "#              ('scale_pos_weight', 1.0),\n",
        "#              ('subsample', 0.1)])"
      ],
      "metadata": {
        "execution": {
          "iopub.status.busy": "2022-10-30T06:46:02.892119Z",
          "iopub.execute_input": "2022-10-30T06:46:02.893237Z",
          "iopub.status.idle": "2022-10-30T06:46:02.900918Z",
          "shell.execute_reply.started": "2022-10-30T06:46:02.893194Z",
          "shell.execute_reply": "2022-10-30T06:46:02.899838Z"
        },
        "trusted": true,
        "id": "8SFIpsWYxctt"
      },
      "execution_count": null,
      "outputs": []
    },
    {
      "cell_type": "code",
      "source": [
        "# XGBoost took 5641.64 seconds,  candidates checked: 15, best CV score: 0.999 ± 0.000\n",
        "# Best parameters:\n",
        "# OrderedDict([('colsample_bytree', 0.49309299633453885),\n",
        "#              ('learning_rate', 0.09082965940463038),\n",
        "#              ('max_depth', 10),\n",
        "#              ('min_child_weight', 1.0),\n",
        "#              ('n_estimators', 694),\n",
        "#              ('reg_alpha', 0.1),\n",
        "#              ('reg_lambda', 1.0),\n",
        "#              ('scale_pos_weight', 4.684705352159883),\n",
        "#              ('subsample', 1.0)])"
      ],
      "metadata": {
        "execution": {
          "iopub.status.busy": "2022-10-30T06:46:02.902479Z",
          "iopub.execute_input": "2022-10-30T06:46:02.902834Z",
          "iopub.status.idle": "2022-10-30T06:46:02.916042Z",
          "shell.execute_reply.started": "2022-10-30T06:46:02.902798Z",
          "shell.execute_reply": "2022-10-30T06:46:02.914935Z"
        },
        "trusted": true,
        "id": "eKK5Q1sDxctu"
      },
      "execution_count": null,
      "outputs": []
    },
    {
      "cell_type": "code",
      "source": [
        "xgb_tuned = XGBClassifier(colsample_bytree=0.49309299633453885,learning_rate=0.09082965940463038,\n",
        "                    max_depth=10,min_child_weight=1,n_estimators=694,\n",
        "                    reg_alpha=0.1,reg_lambda=1,\n",
        "                    scale_pos_weight=4.6847053521598830,\n",
        "                    subsample=1,\n",
        "                    tree_method='gpu_hist')\n",
        "xgb_tuned.fit(X_train, y_train)\n",
        "y_pred_xgb= xgb_tuned.predict(X_val)\n",
        "print(classification_report(y_val, y_pred_xgb,digits=7))"
      ],
      "metadata": {
        "execution": {
          "iopub.status.busy": "2022-10-30T07:00:08.292874Z",
          "iopub.execute_input": "2022-10-30T07:00:08.293270Z",
          "iopub.status.idle": "2022-10-30T07:00:57.670769Z",
          "shell.execute_reply.started": "2022-10-30T07:00:08.293236Z",
          "shell.execute_reply": "2022-10-30T07:00:57.669608Z"
        },
        "trusted": true,
        "id": "AilJZDJ_xct0",
        "outputId": "de74c3d2-d336-47aa-87d1-ec09f0aa8656"
      },
      "execution_count": null,
      "outputs": [
        {
          "name": "stdout",
          "text": "              precision    recall  f1-score   support\n\n         0.0  0.9998436 0.9994491 0.9996463    658957\n         1.0  0.9989790 0.9997101 0.9993444    355268\n\n    accuracy                      0.9995405   1014225\n   macro avg  0.9994113 0.9995796 0.9994954   1014225\nweighted avg  0.9995408 0.9995405 0.9995406   1014225\n\n",
          "output_type": "stream"
        }
      ]
    },
    {
      "cell_type": "code",
      "source": [
        "import seaborn as sn\n",
        "import matplotlib.pyplot as plt\n",
        "\n",
        "confusion_mtx = confusion_matrix(y_val, y_pred_xgb)\n",
        "\n",
        "ax = plt.axes()\n",
        "sn.heatmap(confusion_mtx, annot=True,ax=ax, cmap=plt.cm.Greens,fmt=\"d\")\n",
        "plt.show()"
      ],
      "metadata": {
        "execution": {
          "iopub.status.busy": "2022-10-30T06:46:51.433985Z",
          "iopub.execute_input": "2022-10-30T06:46:51.435229Z",
          "iopub.status.idle": "2022-10-30T06:46:52.497864Z",
          "shell.execute_reply.started": "2022-10-30T06:46:51.435181Z",
          "shell.execute_reply": "2022-10-30T06:46:52.496915Z"
        },
        "trusted": true,
        "id": "XwPsy-Ozxct1",
        "outputId": "95b3ec84-6748-471d-cc63-f1da3524d120"
      },
      "execution_count": null,
      "outputs": [
        {
          "output_type": "display_data",
          "data": {
            "text/plain": "<Figure size 432x288 with 2 Axes>",
            "image/png": "[encoded data removed]"
          },
          "metadata": {
            "needs_background": "light"
          }
        }
      ]
    },
    {
      "cell_type": "code",
      "source": [
        "from mlxtend.classifier import EnsembleVoteClassifier\n",
        "import copy\n",
        "eclf = EnsembleVoteClassifier(clfs=[xgb, xgb2, xgb_tuned], weights=[1,1,1.1], voting=\"soft\")\n",
        "\n",
        "eclf.fit(X_train, y_train)\n",
        "y_pred_eclf = eclf.predict(X_val)\n",
        "print(classification_report(y_val, y_pred_eclf))"
      ],
      "metadata": {
        "execution": {
          "iopub.status.busy": "2022-10-30T06:12:46.709401Z",
          "iopub.execute_input": "2022-10-30T06:12:46.709762Z",
          "iopub.status.idle": "2022-10-30T06:13:50.596068Z",
          "shell.execute_reply.started": "2022-10-30T06:12:46.709731Z",
          "shell.execute_reply": "2022-10-30T06:13:50.594909Z"
        },
        "trusted": true,
        "id": "oiX36abxxct3",
        "outputId": "7b3176f9-44b4-4ffe-d413-4ed937e1a353"
      },
      "execution_count": null,
      "outputs": [
        {
          "name": "stdout",
          "text": "              precision    recall  f1-score   support\n\n         0.0       1.00      1.00      1.00    658957\n         1.0       1.00      1.00      1.00    355268\n\n    accuracy                           1.00   1014225\n   macro avg       1.00      1.00      1.00   1014225\nweighted avg       1.00      1.00      1.00   1014225\n\n",
          "output_type": "stream"
        }
      ]
    },
    {
      "cell_type": "code",
      "source": [
        "print(classification_report(y_val, y_pred_eclf, digits=5))"
      ],
      "metadata": {
        "execution": {
          "iopub.status.busy": "2022-10-30T06:14:17.317086Z",
          "iopub.execute_input": "2022-10-30T06:14:17.317831Z",
          "iopub.status.idle": "2022-10-30T06:14:19.995980Z",
          "shell.execute_reply.started": "2022-10-30T06:14:17.317793Z",
          "shell.execute_reply": "2022-10-30T06:14:19.994698Z"
        },
        "trusted": true,
        "id": "XnGRiJhRxct3",
        "outputId": "c89e052e-1f34-4a05-f2b4-0cd5b6a9141e"
      },
      "execution_count": null,
      "outputs": [
        {
          "name": "stdout",
          "text": "              precision    recall  f1-score   support\n\n         0.0    0.99981   0.99940   0.99961    658957\n         1.0    0.99889   0.99965   0.99927    355268\n\n    accuracy                        0.99949   1014225\n   macro avg    0.99935   0.99953   0.99944   1014225\nweighted avg    0.99949   0.99949   0.99949   1014225\n\n",
          "output_type": "stream"
        }
      ]
    },
    {
      "cell_type": "code",
      "source": [
        "import seaborn as sn\n",
        "import matplotlib.pyplot as plt\n",
        "\n",
        "confusion_mtx = confusion_matrix(y_val, y_pred_eclf)\n",
        "\n",
        "ax = plt.axes()\n",
        "sn.heatmap(confusion_mtx, annot=True,ax=ax, cmap=plt.cm.Greens,fmt=\"d\")\n",
        "plt.show()"
      ],
      "metadata": {
        "execution": {
          "iopub.status.busy": "2022-10-30T06:13:50.598297Z",
          "iopub.execute_input": "2022-10-30T06:13:50.598703Z",
          "iopub.status.idle": "2022-10-30T06:13:51.603231Z",
          "shell.execute_reply.started": "2022-10-30T06:13:50.598668Z",
          "shell.execute_reply": "2022-10-30T06:13:51.602273Z"
        },
        "trusted": true,
        "id": "9Kr7wXxNxct-",
        "outputId": "dc4368e8-7a2c-4547-9456-9283791ffa54"
      },
      "execution_count": null,
      "outputs": [
        {
          "output_type": "display_data",
          "data": {
            "text/plain": "<Figure size 432x288 with 2 Axes>",
            "image/png": "[encoded data removed]"
          },
          "metadata": {
            "needs_background": "light"
          }
        }
      ]
    },
    {
      "cell_type": "code",
      "source": [
        "from sklearn.svm import LinearSVC\n",
        "from sklearn.linear_model import LogisticRegression\n",
        "from sklearn.ensemble import StackingClassifier\n",
        "\n",
        "\n",
        "clf = StackingClassifier(estimators=[('xgb1',xgb), ('xgb2',xgb2), ('xgb3',xgb_tuned)], final_estimator=LogisticRegression())\n",
        "\n",
        "clf.fit(X_train, y_train)\n",
        "y_pred_clf = clf.predict(X_val)\n",
        "print(classification_report(y_val, y_pred_clf))"
      ],
      "metadata": {
        "execution": {
          "iopub.status.busy": "2022-10-30T06:18:36.714871Z",
          "iopub.execute_input": "2022-10-30T06:18:36.715247Z",
          "iopub.status.idle": "2022-10-30T06:23:46.454468Z",
          "shell.execute_reply.started": "2022-10-30T06:18:36.715195Z",
          "shell.execute_reply": "2022-10-30T06:23:46.452904Z"
        },
        "trusted": true,
        "id": "EEDIDtOhxct_",
        "outputId": "4cf47b58-b0d4-4706-d6fb-c8755638032a"
      },
      "execution_count": null,
      "outputs": [
        {
          "name": "stdout",
          "text": "              precision    recall  f1-score   support\n\n         0.0       1.00      1.00      1.00    658957\n         1.0       1.00      1.00      1.00    355268\n\n    accuracy                           1.00   1014225\n   macro avg       1.00      1.00      1.00   1014225\nweighted avg       1.00      1.00      1.00   1014225\n\n",
          "output_type": "stream"
        }
      ]
    },
    {
      "cell_type": "code",
      "source": [
        "print(classification_report(y_val, y_pred_clf, digits=5))"
      ],
      "metadata": {
        "execution": {
          "iopub.status.busy": "2022-10-30T06:24:11.783101Z",
          "iopub.execute_input": "2022-10-30T06:24:11.783867Z",
          "iopub.status.idle": "2022-10-30T06:24:14.432854Z",
          "shell.execute_reply.started": "2022-10-30T06:24:11.783815Z",
          "shell.execute_reply": "2022-10-30T06:24:14.431658Z"
        },
        "trusted": true,
        "id": "vEulYvVfxcuA",
        "outputId": "ceb97b98-1bd3-4b2c-95a4-863bce79b849"
      },
      "execution_count": null,
      "outputs": [
        {
          "name": "stdout",
          "text": "              precision    recall  f1-score   support\n\n         0.0    0.99972   0.99950   0.99961    658957\n         1.0    0.99907   0.99948   0.99928    355268\n\n    accuracy                        0.99949   1014225\n   macro avg    0.99940   0.99949   0.99944   1014225\nweighted avg    0.99949   0.99949   0.99949   1014225\n\n",
          "output_type": "stream"
        }
      ]
    },
    {
      "cell_type": "code",
      "source": [
        "import seaborn as sn\n",
        "import matplotlib.pyplot as plt\n",
        "\n",
        "confusion_mtx = confusion_matrix(y_val, y_pred_clf)\n",
        "\n",
        "ax = plt.axes()\n",
        "sn.heatmap(confusion_mtx, annot=True,ax=ax, cmap=plt.cm.Greens,fmt=\"d\")\n",
        "plt.show()"
      ],
      "metadata": {
        "execution": {
          "iopub.status.busy": "2022-10-30T06:23:46.456341Z",
          "iopub.execute_input": "2022-10-30T06:23:46.456806Z",
          "iopub.status.idle": "2022-10-30T06:23:47.667152Z",
          "shell.execute_reply.started": "2022-10-30T06:23:46.456768Z",
          "shell.execute_reply": "2022-10-30T06:23:47.666078Z"
        },
        "trusted": true,
        "id": "JiPtS3AaxcuG",
        "outputId": "724618c7-a036-4a1c-9055-97b6201dc78d"
      },
      "execution_count": null,
      "outputs": [
        {
          "output_type": "display_data",
          "data": {
            "text/plain": "<Figure size 432x288 with 2 Axes>",
            "image/png": "[encoded data removed]"
          },
          "metadata": {
            "needs_background": "light"
          }
        }
      ]
    },
    {
      "cell_type": "code",
      "source": [
        "from mlxtend.classifier import StackingClassifier\n",
        "from sklearn.svm import LinearSVC\n",
        "from sklearn.svm import SVC\n",
        "\n",
        "clf2 = StackingClassifier(classifiers =[xgb, xgb2, xgb_tuned], meta_classifier = SVC() , use_probas = True)\n",
        "\n",
        "clf2.fit(X_train, y_train)\n",
        "y_pred_clf2 = clf2.predict(X_val)\n",
        "print(classification_report(y_val, y_pred_clf2, digits=5))"
      ],
      "metadata": {
        "execution": {
          "iopub.status.busy": "2022-10-30T06:54:48.141843Z",
          "iopub.execute_input": "2022-10-30T06:54:48.142239Z",
          "iopub.status.idle": "2022-10-30T06:57:07.668395Z",
          "shell.execute_reply.started": "2022-10-30T06:54:48.142203Z",
          "shell.execute_reply": "2022-10-30T06:57:07.667167Z"
        },
        "trusted": true,
        "id": "F1HgZOwxxcuI",
        "outputId": "be723a8a-4443-4e94-9da6-6521f080113b"
      },
      "execution_count": null,
      "outputs": [
        {
          "name": "stdout",
          "text": "              precision    recall  f1-score   support\n\n         0.0    0.99970   0.99959   0.99964    658957\n         1.0    0.99923   0.99945   0.99934    355268\n\n    accuracy                        0.99954   1014225\n   macro avg    0.99947   0.99952   0.99949   1014225\nweighted avg    0.99954   0.99954   0.99954   1014225\n\n",
          "output_type": "stream"
        }
      ]
    },
    {
      "cell_type": "code",
      "source": [
        "print(classification_report(y_val, y_pred_clf2, digits=7))"
      ],
      "metadata": {
        "execution": {
          "iopub.status.busy": "2022-10-30T06:57:56.379062Z",
          "iopub.execute_input": "2022-10-30T06:57:56.379466Z",
          "iopub.status.idle": "2022-10-30T06:57:59.400890Z",
          "shell.execute_reply.started": "2022-10-30T06:57:56.379434Z",
          "shell.execute_reply": "2022-10-30T06:57:59.399894Z"
        },
        "trusted": true,
        "id": "2USZWJsyxcuJ",
        "outputId": "a2f98309-4e44-4600-b7ae-25d16318eabb"
      },
      "execution_count": null,
      "outputs": [
        {
          "name": "stdout",
          "text": "              precision    recall  f1-score   support\n\n         0.0  0.9997010 0.9995872 0.9996441    658957\n         1.0  0.9992345 0.9994455 0.9993400    355268\n\n    accuracy                      0.9995376   1014225\n   macro avg  0.9994678 0.9995164 0.9994921   1014225\nweighted avg  0.9995376 0.9995376 0.9995376   1014225\n\n",
          "output_type": "stream"
        }
      ]
    },
    {
      "cell_type": "code",
      "source": [
        "import seaborn as sn\n",
        "import matplotlib.pyplot as plt\n",
        "\n",
        "confusion_mtx = confusion_matrix(y_val, y_pred_clf2)\n",
        "\n",
        "ax = plt.axes()\n",
        "sn.heatmap(confusion_mtx, annot=True,ax=ax, cmap=plt.cm.Greens,fmt=\"d\")\n",
        "plt.show()"
      ],
      "metadata": {
        "execution": {
          "iopub.status.busy": "2022-10-30T06:57:07.670866Z",
          "iopub.execute_input": "2022-10-30T06:57:07.671340Z",
          "iopub.status.idle": "2022-10-30T06:57:08.784951Z",
          "shell.execute_reply.started": "2022-10-30T06:57:07.671293Z",
          "shell.execute_reply": "2022-10-30T06:57:08.783963Z"
        },
        "trusted": true,
        "id": "zuTw7YfnxcuP",
        "outputId": "73f781f1-e0f4-4068-fa15-2f63e445a240"
      },
      "execution_count": null,
      "outputs": [
        {
          "output_type": "display_data",
          "data": {
            "text/plain": "<Figure size 432x288 with 2 Axes>",
            "image/png": "[encoded data removed]"
          },
          "metadata": {
            "needs_background": "light"
          }
        }
      ]
    },
    {
      "cell_type": "code",
      "source": [
        "from sklearn.model_selection import cross_val_score,KFold\n",
        "\n",
        "scores = cross_val_score(xgb_tuned, X, y, cv=5, scoring='f1')"
      ],
      "metadata": {
        "execution": {
          "iopub.status.busy": "2022-10-30T07:01:48.561598Z",
          "iopub.execute_input": "2022-10-30T07:01:48.561979Z",
          "iopub.status.idle": "2022-10-30T07:05:42.044189Z",
          "shell.execute_reply.started": "2022-10-30T07:01:48.561947Z",
          "shell.execute_reply": "2022-10-30T07:05:42.043141Z"
        },
        "trusted": true,
        "id": "zq1Wdlu-xcuQ"
      },
      "execution_count": null,
      "outputs": []
    },
    {
      "cell_type": "code",
      "source": [
        "print(\"Cross Validation Scores are {}\".format(scores))\n",
        "print(\"Average Cross Validation score :{}\".format(scores.mean()))"
      ],
      "metadata": {
        "execution": {
          "iopub.status.busy": "2022-10-30T07:05:42.046446Z",
          "iopub.execute_input": "2022-10-30T07:05:42.046835Z",
          "iopub.status.idle": "2022-10-30T07:05:42.054902Z",
          "shell.execute_reply.started": "2022-10-30T07:05:42.046797Z",
          "shell.execute_reply": "2022-10-30T07:05:42.053775Z"
        },
        "trusted": true,
        "id": "O7MOlKr0xcuR",
        "outputId": "91160c8b-74c7-41d5-b911-2efb4c73ed4f"
      },
      "execution_count": null,
      "outputs": [
        {
          "name": "stdout",
          "text": "Cross Validation Scores are [0.99931477 0.99924979 0.99931479 0.99923046 0.99932183]\nAverage Cross Validation score :0.9992863285746193\n",
          "output_type": "stream"
        }
      ]
    },
    {
      "cell_type": "code",
      "source": [
        "from sklearn.model_selection import cross_val_score,KFold\n",
        "\n",
        "scores = cross_val_score(clf2, X, y, cv=5, scoring='f1')"
      ],
      "metadata": {
        "execution": {
          "iopub.status.busy": "2022-10-30T07:05:42.056474Z",
          "iopub.execute_input": "2022-10-30T07:05:42.057691Z",
          "iopub.status.idle": "2022-10-30T07:17:22.651596Z",
          "shell.execute_reply.started": "2022-10-30T07:05:42.057661Z",
          "shell.execute_reply": "2022-10-30T07:17:22.650392Z"
        },
        "trusted": true,
        "id": "q4LXMjVmxcuX"
      },
      "execution_count": null,
      "outputs": []
    },
    {
      "cell_type": "code",
      "source": [
        "print(\"Cross Validation Scores are {}\".format(scores))\n",
        "print(\"Average Cross Validation score :{}\".format(scores.mean()))"
      ],
      "metadata": {
        "execution": {
          "iopub.status.busy": "2022-10-30T07:17:22.653633Z",
          "iopub.execute_input": "2022-10-30T07:17:22.653993Z",
          "iopub.status.idle": "2022-10-30T07:17:22.663260Z",
          "shell.execute_reply.started": "2022-10-30T07:17:22.653960Z",
          "shell.execute_reply": "2022-10-30T07:17:22.661856Z"
        },
        "trusted": true,
        "id": "ICedFkZvxcuY",
        "outputId": "e58b2601-d340-4752-df0f-2a786172f7ce"
      },
      "execution_count": null,
      "outputs": [
        {
          "name": "stdout",
          "text": "Cross Validation Scores are [0.99933922 0.99929355 0.99933569 0.99929176 0.99935155]\nAverage Cross Validation score :0.9993223546100236\n",
          "output_type": "stream"
        }
      ]
    },
    {
      "cell_type": "code",
      "source": [
        "# Cross Validation Scores are [0.99933922 0.99929355 0.99933569 0.99929176 0.99935155]\n",
        "# Average Cross Validation score :0.9993223546100236"
      ],
      "metadata": {
        "id": "ZWQzv1bExcuY"
      },
      "execution_count": null,
      "outputs": []
    },
    {
      "cell_type": "code",
      "source": [
        "from scipy.stats import randint\n",
        "from scipy.stats import uniform\n",
        "\n",
        "# Model selection\n",
        "from sklearn.model_selection import StratifiedKFold\n",
        "from sklearn.model_selection import KFold\n",
        "from sklearn.model_selection import GridSearchCV, RandomizedSearchCV\n",
        "from sklearn.model_selection import cross_val_score\n",
        "\n",
        "# Metrics\n",
        "from sklearn.metrics import average_precision_score, roc_auc_score, mean_absolute_error, f1_score, make_scorer\n",
        "\n",
        "# Skopt functions\n",
        "from skopt import BayesSearchCV\n",
        "from skopt import gp_minimize # Bayesian optimization using Gaussian Processes\n",
        "from skopt.space import Real, Categorical, Integer\n",
        "from skopt.utils import use_named_args # decorator to convert a list of parameters to named arguments\n",
        "from skopt.callbacks import DeadlineStopper # Stop the optimization before running out of a fixed budget of time.\n",
        "from skopt.callbacks import VerboseCallback # Callback to control the verbosity\n",
        "from skopt.callbacks import DeltaYStopper # Stop the optimization If the last two positions at which the objective has been evaluated are less than delta"
      ],
      "metadata": {
        "execution": {
          "iopub.status.busy": "2022-10-30T04:27:39.574268Z",
          "iopub.execute_input": "2022-10-30T04:27:39.574650Z",
          "iopub.status.idle": "2022-10-30T04:27:40.072890Z",
          "shell.execute_reply.started": "2022-10-30T04:27:39.574619Z",
          "shell.execute_reply": "2022-10-30T04:27:40.071831Z"
        },
        "trusted": true,
        "id": "CfsjDGOxxcuZ"
      },
      "execution_count": null,
      "outputs": []
    },
    {
      "cell_type": "code",
      "source": [
        "from time import time\n",
        "\n",
        "import pprint\n",
        "\"\"\"\n",
        "A wrapper for measuring time and performances of different optmizers\n",
        "\n",
        "optimizer = a sklearn or a skopt optimizer\n",
        "X = the training set\n",
        "y = our target\n",
        "title = a string label for the experiment\n",
        "\"\"\"\n",
        "def report_perf(optimizer, X, y, title, callbacks=None):\n",
        "    start = time()\n",
        "    if callbacks:\n",
        "        optimizer.fit(X, y, callback=callbacks)\n",
        "    else:\n",
        "        optimizer.fit(X, y)\n",
        "    best_score = optimizer.best_score_\n",
        "    best_score_std = optimizer.cv_results_['std_test_score'][optimizer.best_index_]\n",
        "    best_params = optimizer.best_params_\n",
        "    print((title + \" took %.2f seconds,  candidates checked: %d, best CV score: %.3f \"\n",
        "           +u\"\\u00B1\"+\" %.3f\") % (time() - start,\n",
        "                                  len(optimizer.cv_results_['params']),\n",
        "                                  best_score,\n",
        "                                  best_score_std))\n",
        "    print('Best parameters:')\n",
        "    pprint.pprint(best_params)\n",
        "    print()\n",
        "    return best_params"
      ],
      "metadata": {
        "execution": {
          "iopub.status.busy": "2022-10-30T04:27:44.531944Z",
          "iopub.execute_input": "2022-10-30T04:27:44.532429Z",
          "iopub.status.idle": "2022-10-30T04:27:44.555693Z",
          "shell.execute_reply.started": "2022-10-30T04:27:44.532383Z",
          "shell.execute_reply": "2022-10-30T04:27:44.553380Z"
        },
        "trusted": true,
        "id": "lIhV3CVVxcug"
      },
      "execution_count": null,
      "outputs": []
    },
    {
      "cell_type": "code",
      "source": [
        "# 5-fold StratifiedCV\n",
        "kf = KFold(n_splits=5, shuffle=True, random_state=8)\n",
        "\n",
        "# Scorer\n",
        "scorer = make_scorer(f1_score)\n",
        "\n",
        "# Setting the search space\n",
        "search_spaces = {'learning_rate': Real(0.01, 1.0, 'uniform'),\n",
        "                 'max_depth': [5,10,15,20],\n",
        "                 'min_child_weight': Real(0.1, 1),\n",
        "                 'subsample': Real(0.1, 1.0, 'uniform'),\n",
        "                 'colsample_bytree': Real(0.1, 1.0, 'uniform'), # subsample ratio of columns by tree\n",
        "                 'reg_lambda': [0.001, 0.01, 0.1, 0.5, 1], # L2 regularization\n",
        "                 'reg_alpha': [0.001, 0.01, 0.1, 1, 10, 100], # L1 regularization\n",
        "                 'n_estimators': Integer(50, 5000),\n",
        "                 'scale_pos_weight':Real(1.0, 5.0, 'uniform')\n",
        "   }\n",
        "\n",
        "\n",
        "opt = BayesSearchCV(xgb,\n",
        "                    search_spaces,\n",
        "                    scoring='f1',\n",
        "                    cv=kf,\n",
        "                    n_jobs=1,\n",
        "                    n_iter=20,# use just 1 job with CatBoost in order to avoid segmentation fault\n",
        "                    return_train_score=False,\n",
        "                    refit=True,\n",
        "                    verbose=1000)"
      ],
      "metadata": {
        "execution": {
          "iopub.status.busy": "2022-10-30T04:30:43.293286Z",
          "iopub.execute_input": "2022-10-30T04:30:43.294077Z",
          "iopub.status.idle": "2022-10-30T04:30:43.310326Z",
          "shell.execute_reply.started": "2022-10-30T04:30:43.294038Z",
          "shell.execute_reply": "2022-10-30T04:30:43.309215Z"
        },
        "trusted": true,
        "id": "67IDaAdxxcug"
      },
      "execution_count": null,
      "outputs": []
    },
    {
      "cell_type": "code",
      "source": [
        "best_params = report_perf(opt, X, y,'XGBoost',\n",
        "#best_params = report_perf(opt, trainx, trainy,'CatBoost',\n",
        "                          callbacks=[DeltaYStopper(0.0001)])"
      ],
      "metadata": {
        "execution": {
          "iopub.status.busy": "2022-10-30T04:30:48.201634Z",
          "iopub.execute_input": "2022-10-30T04:30:48.202003Z",
          "iopub.status.idle": "2022-10-30T06:04:49.845553Z",
          "shell.execute_reply.started": "2022-10-30T04:30:48.201972Z",
          "shell.execute_reply": "2022-10-30T06:04:49.844411Z"
        },
        "trusted": true,
        "id": "VqxJWUd5xcuh",
        "outputId": "851e6872-a602-4110-ff8b-e18b2a061e9e"
      },
      "execution_count": null,
      "outputs": [
        {
          "name": "stdout",
          "text": "Fitting 5 folds for each of 1 candidates, totalling 5 fits\n[CV 1/5; 1/1] START colsample_bytree=0.8269045409083293, learning_rate=0.884828246121668, max_depth=15, min_child_weight=0.6011706350384911, n_estimators=542, reg_alpha=0.001, reg_lambda=0.5, scale_pos_weight=1.1166732473017067, subsample=0.7669879496234232\n[CV 1/5; 1/1] END colsample_bytree=0.8269045409083293, learning_rate=0.884828246121668, max_depth=15, min_child_weight=0.6011706350384911, n_estimators=542, reg_alpha=0.001, reg_lambda=0.5, scale_pos_weight=1.1166732473017067, subsample=0.7669879496234232;, score=0.999 total time=  39.0s\n[CV 2/5; 1/1] START colsample_bytree=0.8269045409083293, learning_rate=0.884828246121668, max_depth=15, min_child_weight=0.6011706350384911, n_estimators=542, reg_alpha=0.001, reg_lambda=0.5, scale_pos_weight=1.1166732473017067, subsample=0.7669879496234232\n[CV 2/5; 1/1] END colsample_bytree=0.8269045409083293, learning_rate=0.884828246121668, max_depth=15, min_child_weight=0.6011706350384911, n_estimators=542, reg_alpha=0.001, reg_lambda=0.5, scale_pos_weight=1.1166732473017067, subsample=0.7669879496234232;, score=0.999 total time=  38.7s\n[CV 3/5; 1/1] START colsample_bytree=0.8269045409083293, learning_rate=0.884828246121668, max_depth=15, min_child_weight=0.6011706350384911, n_estimators=542, reg_alpha=0.001, reg_lambda=0.5, scale_pos_weight=1.1166732473017067, subsample=0.7669879496234232\n[CV 3/5; 1/1] END colsample_bytree=0.8269045409083293, learning_rate=0.884828246121668, max_depth=15, min_child_weight=0.6011706350384911, n_estimators=542, reg_alpha=0.001, reg_lambda=0.5, scale_pos_weight=1.1166732473017067, subsample=0.7669879496234232;, score=0.999 total time=  39.6s\n[CV 4/5; 1/1] START colsample_bytree=0.8269045409083293, learning_rate=0.884828246121668, max_depth=15, min_child_weight=0.6011706350384911, n_estimators=542, reg_alpha=0.001, reg_lambda=0.5, scale_pos_weight=1.1166732473017067, subsample=0.7669879496234232\n[CV 4/5; 1/1] END colsample_bytree=0.8269045409083293, learning_rate=0.884828246121668, max_depth=15, min_child_weight=0.6011706350384911, n_estimators=542, reg_alpha=0.001, reg_lambda=0.5, scale_pos_weight=1.1166732473017067, subsample=0.7669879496234232;, score=0.999 total time=  39.1s\n[CV 5/5; 1/1] START colsample_bytree=0.8269045409083293, learning_rate=0.884828246121668, max_depth=15, min_child_weight=0.6011706350384911, n_estimators=542, reg_alpha=0.001, reg_lambda=0.5, scale_pos_weight=1.1166732473017067, subsample=0.7669879496234232\n[CV 5/5; 1/1] END colsample_bytree=0.8269045409083293, learning_rate=0.884828246121668, max_depth=15, min_child_weight=0.6011706350384911, n_estimators=542, reg_alpha=0.001, reg_lambda=0.5, scale_pos_weight=1.1166732473017067, subsample=0.7669879496234232;, score=0.999 total time=  38.4s\nFitting 5 folds for each of 1 candidates, totalling 5 fits\n[CV 1/5; 1/1] START colsample_bytree=0.343774349099712, learning_rate=0.8366642753852137, max_depth=5, min_child_weight=0.2950937561255077, n_estimators=1784, reg_alpha=100.0, reg_lambda=0.01, scale_pos_weight=1.1121750477800085, subsample=0.6915302055807958\n[CV 1/5; 1/1] END colsample_bytree=0.343774349099712, learning_rate=0.8366642753852137, max_depth=5, min_child_weight=0.2950937561255077, n_estimators=1784, reg_alpha=100.0, reg_lambda=0.01, scale_pos_weight=1.1121750477800085, subsample=0.6915302055807958;, score=0.999 total time=  27.2s\n[CV 2/5; 1/1] START colsample_bytree=0.343774349099712, learning_rate=0.8366642753852137, max_depth=5, min_child_weight=0.2950937561255077, n_estimators=1784, reg_alpha=100.0, reg_lambda=0.01, scale_pos_weight=1.1121750477800085, subsample=0.6915302055807958\n[CV 2/5; 1/1] END colsample_bytree=0.343774349099712, learning_rate=0.8366642753852137, max_depth=5, min_child_weight=0.2950937561255077, n_estimators=1784, reg_alpha=100.0, reg_lambda=0.01, scale_pos_weight=1.1121750477800085, subsample=0.6915302055807958;, score=0.999 total time=  27.6s\n[CV 3/5; 1/1] START colsample_bytree=0.343774349099712, learning_rate=0.8366642753852137, max_depth=5, min_child_weight=0.2950937561255077, n_estimators=1784, reg_alpha=100.0, reg_lambda=0.01, scale_pos_weight=1.1121750477800085, subsample=0.6915302055807958\n[CV 3/5; 1/1] END colsample_bytree=0.343774349099712, learning_rate=0.8366642753852137, max_depth=5, min_child_weight=0.2950937561255077, n_estimators=1784, reg_alpha=100.0, reg_lambda=0.01, scale_pos_weight=1.1121750477800085, subsample=0.6915302055807958;, score=0.999 total time=  27.3s\n[CV 4/5; 1/1] START colsample_bytree=0.343774349099712, learning_rate=0.8366642753852137, max_depth=5, min_child_weight=0.2950937561255077, n_estimators=1784, reg_alpha=100.0, reg_lambda=0.01, scale_pos_weight=1.1121750477800085, subsample=0.6915302055807958\n[CV 4/5; 1/1] END colsample_bytree=0.343774349099712, learning_rate=0.8366642753852137, max_depth=5, min_child_weight=0.2950937561255077, n_estimators=1784, reg_alpha=100.0, reg_lambda=0.01, scale_pos_weight=1.1121750477800085, subsample=0.6915302055807958;, score=0.999 total time=  28.3s\n[CV 5/5; 1/1] START colsample_bytree=0.343774349099712, learning_rate=0.8366642753852137, max_depth=5, min_child_weight=0.2950937561255077, n_estimators=1784, reg_alpha=100.0, reg_lambda=0.01, scale_pos_weight=1.1121750477800085, subsample=0.6915302055807958\n[CV 5/5; 1/1] END colsample_bytree=0.343774349099712, learning_rate=0.8366642753852137, max_depth=5, min_child_weight=0.2950937561255077, n_estimators=1784, reg_alpha=100.0, reg_lambda=0.01, scale_pos_weight=1.1121750477800085, subsample=0.6915302055807958;, score=0.999 total time=  27.6s\nFitting 5 folds for each of 1 candidates, totalling 5 fits\n[CV 1/5; 1/1] START colsample_bytree=0.7937243239365056, learning_rate=0.0619392636873253, max_depth=5, min_child_weight=0.41100247555728353, n_estimators=3777, reg_alpha=100.0, reg_lambda=0.01, scale_pos_weight=2.3328932419325312, subsample=0.15194714125359013\n[CV 1/5; 1/1] END colsample_bytree=0.7937243239365056, learning_rate=0.0619392636873253, max_depth=5, min_child_weight=0.41100247555728353, n_estimators=3777, reg_alpha=100.0, reg_lambda=0.01, scale_pos_weight=2.3328932419325312, subsample=0.15194714125359013;, score=0.998 total time=  56.9s\n[CV 2/5; 1/1] START colsample_bytree=0.7937243239365056, learning_rate=0.0619392636873253, max_depth=5, min_child_weight=0.41100247555728353, n_estimators=3777, reg_alpha=100.0, reg_lambda=0.01, scale_pos_weight=2.3328932419325312, subsample=0.15194714125359013\n[CV 2/5; 1/1] END colsample_bytree=0.7937243239365056, learning_rate=0.0619392636873253, max_depth=5, min_child_weight=0.41100247555728353, n_estimators=3777, reg_alpha=100.0, reg_lambda=0.01, scale_pos_weight=2.3328932419325312, subsample=0.15194714125359013;, score=0.998 total time=  56.4s\n[CV 3/5; 1/1] START colsample_bytree=0.7937243239365056, learning_rate=0.0619392636873253, max_depth=5, min_child_weight=0.41100247555728353, n_estimators=3777, reg_alpha=100.0, reg_lambda=0.01, scale_pos_weight=2.3328932419325312, subsample=0.15194714125359013\n[CV 3/5; 1/1] END colsample_bytree=0.7937243239365056, learning_rate=0.0619392636873253, max_depth=5, min_child_weight=0.41100247555728353, n_estimators=3777, reg_alpha=100.0, reg_lambda=0.01, scale_pos_weight=2.3328932419325312, subsample=0.15194714125359013;, score=0.998 total time=  56.3s\n[CV 4/5; 1/1] START colsample_bytree=0.7937243239365056, learning_rate=0.0619392636873253, max_depth=5, min_child_weight=0.41100247555728353, n_estimators=3777, reg_alpha=100.0, reg_lambda=0.01, scale_pos_weight=2.3328932419325312, subsample=0.15194714125359013\n[CV 4/5; 1/1] END colsample_bytree=0.7937243239365056, learning_rate=0.0619392636873253, max_depth=5, min_child_weight=0.41100247555728353, n_estimators=3777, reg_alpha=100.0, reg_lambda=0.01, scale_pos_weight=2.3328932419325312, subsample=0.15194714125359013;, score=0.998 total time=  56.7s\n[CV 5/5; 1/1] START colsample_bytree=0.7937243239365056, learning_rate=0.0619392636873253, max_depth=5, min_child_weight=0.41100247555728353, n_estimators=3777, reg_alpha=100.0, reg_lambda=0.01, scale_pos_weight=2.3328932419325312, subsample=0.15194714125359013\n[CV 5/5; 1/1] END colsample_bytree=0.7937243239365056, learning_rate=0.0619392636873253, max_depth=5, min_child_weight=0.41100247555728353, n_estimators=3777, reg_alpha=100.0, reg_lambda=0.01, scale_pos_weight=2.3328932419325312, subsample=0.15194714125359013;, score=0.999 total time=  56.2s\nFitting 5 folds for each of 1 candidates, totalling 5 fits\n[CV 1/5; 1/1] START colsample_bytree=0.38821459129883107, learning_rate=0.6580458125815676, max_depth=10, min_child_weight=0.1435107338495886, n_estimators=799, reg_alpha=0.001, reg_lambda=0.001, scale_pos_weight=4.3230703875996745, subsample=0.9218202642032138\n[CV 1/5; 1/1] END colsample_bytree=0.38821459129883107, learning_rate=0.6580458125815676, max_depth=10, min_child_weight=0.1435107338495886, n_estimators=799, reg_alpha=0.001, reg_lambda=0.001, scale_pos_weight=4.3230703875996745, subsample=0.9218202642032138;, score=0.999 total time=  56.9s\n[CV 2/5; 1/1] START colsample_bytree=0.38821459129883107, learning_rate=0.6580458125815676, max_depth=10, min_child_weight=0.1435107338495886, n_estimators=799, reg_alpha=0.001, reg_lambda=0.001, scale_pos_weight=4.3230703875996745, subsample=0.9218202642032138\n[CV 2/5; 1/1] END colsample_bytree=0.38821459129883107, learning_rate=0.6580458125815676, max_depth=10, min_child_weight=0.1435107338495886, n_estimators=799, reg_alpha=0.001, reg_lambda=0.001, scale_pos_weight=4.3230703875996745, subsample=0.9218202642032138;, score=0.996 total time=  22.3s\n[CV 3/5; 1/1] START colsample_bytree=0.38821459129883107, learning_rate=0.6580458125815676, max_depth=10, min_child_weight=0.1435107338495886, n_estimators=799, reg_alpha=0.001, reg_lambda=0.001, scale_pos_weight=4.3230703875996745, subsample=0.9218202642032138\n[CV 3/5; 1/1] END colsample_bytree=0.38821459129883107, learning_rate=0.6580458125815676, max_depth=10, min_child_weight=0.1435107338495886, n_estimators=799, reg_alpha=0.001, reg_lambda=0.001, scale_pos_weight=4.3230703875996745, subsample=0.9218202642032138;, score=0.999 total time=  58.0s\n[CV 4/5; 1/1] START colsample_bytree=0.38821459129883107, learning_rate=0.6580458125815676, max_depth=10, min_child_weight=0.1435107338495886, n_estimators=799, reg_alpha=0.001, reg_lambda=0.001, scale_pos_weight=4.3230703875996745, subsample=0.9218202642032138\n[CV 4/5; 1/1] END colsample_bytree=0.38821459129883107, learning_rate=0.6580458125815676, max_depth=10, min_child_weight=0.1435107338495886, n_estimators=799, reg_alpha=0.001, reg_lambda=0.001, scale_pos_weight=4.3230703875996745, subsample=0.9218202642032138;, score=0.992 total time=  25.0s\n[CV 5/5; 1/1] START colsample_bytree=0.38821459129883107, learning_rate=0.6580458125815676, max_depth=10, min_child_weight=0.1435107338495886, n_estimators=799, reg_alpha=0.001, reg_lambda=0.001, scale_pos_weight=4.3230703875996745, subsample=0.9218202642032138\n[CV 5/5; 1/1] END colsample_bytree=0.38821459129883107, learning_rate=0.6580458125815676, max_depth=10, min_child_weight=0.1435107338495886, n_estimators=799, reg_alpha=0.001, reg_lambda=0.001, scale_pos_weight=4.3230703875996745, subsample=0.9218202642032138;, score=0.962 total time=  31.0s\nFitting 5 folds for each of 1 candidates, totalling 5 fits\n[CV 1/5; 1/1] START colsample_bytree=0.27618093946776645, learning_rate=0.8794438442975133, max_depth=15, min_child_weight=0.3905919593300168, n_estimators=3361, reg_alpha=0.1, reg_lambda=0.001, scale_pos_weight=1.974930745322461, subsample=0.25618441113015467\n[CV 1/5; 1/1] END colsample_bytree=0.27618093946776645, learning_rate=0.8794438442975133, max_depth=15, min_child_weight=0.3905919593300168, n_estimators=3361, reg_alpha=0.1, reg_lambda=0.001, scale_pos_weight=1.974930745322461, subsample=0.25618441113015467;, score=0.998 total time= 2.0min\n[CV 2/5; 1/1] START colsample_bytree=0.27618093946776645, learning_rate=0.8794438442975133, max_depth=15, min_child_weight=0.3905919593300168, n_estimators=3361, reg_alpha=0.1, reg_lambda=0.001, scale_pos_weight=1.974930745322461, subsample=0.25618441113015467\n[CV 2/5; 1/1] END colsample_bytree=0.27618093946776645, learning_rate=0.8794438442975133, max_depth=15, min_child_weight=0.3905919593300168, n_estimators=3361, reg_alpha=0.1, reg_lambda=0.001, scale_pos_weight=1.974930745322461, subsample=0.25618441113015467;, score=0.998 total time= 2.0min\n[CV 3/5; 1/1] START colsample_bytree=0.27618093946776645, learning_rate=0.8794438442975133, max_depth=15, min_child_weight=0.3905919593300168, n_estimators=3361, reg_alpha=0.1, reg_lambda=0.001, scale_pos_weight=1.974930745322461, subsample=0.25618441113015467\n[CV 3/5; 1/1] END colsample_bytree=0.27618093946776645, learning_rate=0.8794438442975133, max_depth=15, min_child_weight=0.3905919593300168, n_estimators=3361, reg_alpha=0.1, reg_lambda=0.001, scale_pos_weight=1.974930745322461, subsample=0.25618441113015467;, score=0.998 total time= 1.9min\n[CV 4/5; 1/1] START colsample_bytree=0.27618093946776645, learning_rate=0.8794438442975133, max_depth=15, min_child_weight=0.3905919593300168, n_estimators=3361, reg_alpha=0.1, reg_lambda=0.001, scale_pos_weight=1.974930745322461, subsample=0.25618441113015467\n[CV 4/5; 1/1] END colsample_bytree=0.27618093946776645, learning_rate=0.8794438442975133, max_depth=15, min_child_weight=0.3905919593300168, n_estimators=3361, reg_alpha=0.1, reg_lambda=0.001, scale_pos_weight=1.974930745322461, subsample=0.25618441113015467;, score=0.998 total time= 2.0min\n[CV 5/5; 1/1] START colsample_bytree=0.27618093946776645, learning_rate=0.8794438442975133, max_depth=15, min_child_weight=0.3905919593300168, n_estimators=3361, reg_alpha=0.1, reg_lambda=0.001, scale_pos_weight=1.974930745322461, subsample=0.25618441113015467\n[CV 5/5; 1/1] END colsample_bytree=0.27618093946776645, learning_rate=0.8794438442975133, max_depth=15, min_child_weight=0.3905919593300168, n_estimators=3361, reg_alpha=0.1, reg_lambda=0.001, scale_pos_weight=1.974930745322461, subsample=0.25618441113015467;, score=0.998 total time= 1.9min\nFitting 5 folds for each of 1 candidates, totalling 5 fits\n[CV 1/5; 1/1] START colsample_bytree=0.517653448575998, learning_rate=0.20248896276843328, max_depth=15, min_child_weight=0.39228624029479076, n_estimators=1891, reg_alpha=10.0, reg_lambda=0.001, scale_pos_weight=2.026470780376081, subsample=0.856715722713343\n[CV 1/5; 1/1] END colsample_bytree=0.517653448575998, learning_rate=0.20248896276843328, max_depth=15, min_child_weight=0.39228624029479076, n_estimators=1891, reg_alpha=10.0, reg_lambda=0.001, scale_pos_weight=2.026470780376081, subsample=0.856715722713343;, score=0.999 total time= 1.7min\n[CV 2/5; 1/1] START colsample_bytree=0.517653448575998, learning_rate=0.20248896276843328, max_depth=15, min_child_weight=0.39228624029479076, n_estimators=1891, reg_alpha=10.0, reg_lambda=0.001, scale_pos_weight=2.026470780376081, subsample=0.856715722713343\n[CV 2/5; 1/1] END colsample_bytree=0.517653448575998, learning_rate=0.20248896276843328, max_depth=15, min_child_weight=0.39228624029479076, n_estimators=1891, reg_alpha=10.0, reg_lambda=0.001, scale_pos_weight=2.026470780376081, subsample=0.856715722713343;, score=0.999 total time= 1.7min\n[CV 3/5; 1/1] START colsample_bytree=0.517653448575998, learning_rate=0.20248896276843328, max_depth=15, min_child_weight=0.39228624029479076, n_estimators=1891, reg_alpha=10.0, reg_lambda=0.001, scale_pos_weight=2.026470780376081, subsample=0.856715722713343\n[CV 3/5; 1/1] END colsample_bytree=0.517653448575998, learning_rate=0.20248896276843328, max_depth=15, min_child_weight=0.39228624029479076, n_estimators=1891, reg_alpha=10.0, reg_lambda=0.001, scale_pos_weight=2.026470780376081, subsample=0.856715722713343;, score=0.999 total time= 1.7min\n[CV 4/5; 1/1] START colsample_bytree=0.517653448575998, learning_rate=0.20248896276843328, max_depth=15, min_child_weight=0.39228624029479076, n_estimators=1891, reg_alpha=10.0, reg_lambda=0.001, scale_pos_weight=2.026470780376081, subsample=0.856715722713343\n[CV 4/5; 1/1] END colsample_bytree=0.517653448575998, learning_rate=0.20248896276843328, max_depth=15, min_child_weight=0.39228624029479076, n_estimators=1891, reg_alpha=10.0, reg_lambda=0.001, scale_pos_weight=2.026470780376081, subsample=0.856715722713343;, score=0.999 total time= 1.7min\n[CV 5/5; 1/1] START colsample_bytree=0.517653448575998, learning_rate=0.20248896276843328, max_depth=15, min_child_weight=0.39228624029479076, n_estimators=1891, reg_alpha=10.0, reg_lambda=0.001, scale_pos_weight=2.026470780376081, subsample=0.856715722713343\n[CV 5/5; 1/1] END colsample_bytree=0.517653448575998, learning_rate=0.20248896276843328, max_depth=15, min_child_weight=0.39228624029479076, n_estimators=1891, reg_alpha=10.0, reg_lambda=0.001, scale_pos_weight=2.026470780376081, subsample=0.856715722713343;, score=0.999 total time= 1.7min\nFitting 5 folds for each of 1 candidates, totalling 5 fits\n[CV 1/5; 1/1] START colsample_bytree=0.551620510225057, learning_rate=0.8539521806828371, max_depth=5, min_child_weight=0.41589849981250426, n_estimators=4569, reg_alpha=0.1, reg_lambda=0.001, scale_pos_weight=1.8232370526712611, subsample=0.3768839622892066\n[CV 1/5; 1/1] END colsample_bytree=0.551620510225057, learning_rate=0.8539521806828371, max_depth=5, min_child_weight=0.41589849981250426, n_estimators=4569, reg_alpha=0.1, reg_lambda=0.001, scale_pos_weight=1.8232370526712611, subsample=0.3768839622892066;, score=0.998 total time= 2.7min\n[CV 2/5; 1/1] START colsample_bytree=0.551620510225057, learning_rate=0.8539521806828371, max_depth=5, min_child_weight=0.41589849981250426, n_estimators=4569, reg_alpha=0.1, reg_lambda=0.001, scale_pos_weight=1.8232370526712611, subsample=0.3768839622892066\n[CV 2/5; 1/1] END colsample_bytree=0.551620510225057, learning_rate=0.8539521806828371, max_depth=5, min_child_weight=0.41589849981250426, n_estimators=4569, reg_alpha=0.1, reg_lambda=0.001, scale_pos_weight=1.8232370526712611, subsample=0.3768839622892066;, score=0.998 total time= 2.7min\n[CV 3/5; 1/1] START colsample_bytree=0.551620510225057, learning_rate=0.8539521806828371, max_depth=5, min_child_weight=0.41589849981250426, n_estimators=4569, reg_alpha=0.1, reg_lambda=0.001, scale_pos_weight=1.8232370526712611, subsample=0.3768839622892066\n[CV 3/5; 1/1] END colsample_bytree=0.551620510225057, learning_rate=0.8539521806828371, max_depth=5, min_child_weight=0.41589849981250426, n_estimators=4569, reg_alpha=0.1, reg_lambda=0.001, scale_pos_weight=1.8232370526712611, subsample=0.3768839622892066;, score=0.998 total time= 2.7min\n[CV 4/5; 1/1] START colsample_bytree=0.551620510225057, learning_rate=0.8539521806828371, max_depth=5, min_child_weight=0.41589849981250426, n_estimators=4569, reg_alpha=0.1, reg_lambda=0.001, scale_pos_weight=1.8232370526712611, subsample=0.3768839622892066\n[CV 4/5; 1/1] END colsample_bytree=0.551620510225057, learning_rate=0.8539521806828371, max_depth=5, min_child_weight=0.41589849981250426, n_estimators=4569, reg_alpha=0.1, reg_lambda=0.001, scale_pos_weight=1.8232370526712611, subsample=0.3768839622892066;, score=0.999 total time= 2.7min\n[CV 5/5; 1/1] START colsample_bytree=0.551620510225057, learning_rate=0.8539521806828371, max_depth=5, min_child_weight=0.41589849981250426, n_estimators=4569, reg_alpha=0.1, reg_lambda=0.001, scale_pos_weight=1.8232370526712611, subsample=0.3768839622892066\n[CV 5/5; 1/1] END colsample_bytree=0.551620510225057, learning_rate=0.8539521806828371, max_depth=5, min_child_weight=0.41589849981250426, n_estimators=4569, reg_alpha=0.1, reg_lambda=0.001, scale_pos_weight=1.8232370526712611, subsample=0.3768839622892066;, score=0.998 total time= 2.7min\nFitting 5 folds for each of 1 candidates, totalling 5 fits\n[CV 1/5; 1/1] START colsample_bytree=0.7053232616395468, learning_rate=0.5101631703168044, max_depth=10, min_child_weight=0.6208302821555319, n_estimators=74, reg_alpha=0.1, reg_lambda=0.1, scale_pos_weight=1.6660257401571208, subsample=0.8780592548053132\n[CV 1/5; 1/1] END colsample_bytree=0.7053232616395468, learning_rate=0.5101631703168044, max_depth=10, min_child_weight=0.6208302821555319, n_estimators=74, reg_alpha=0.1, reg_lambda=0.1, scale_pos_weight=1.6660257401571208, subsample=0.8780592548053132;, score=0.999 total time=   9.6s\n[CV 2/5; 1/1] START colsample_bytree=0.7053232616395468, learning_rate=0.5101631703168044, max_depth=10, min_child_weight=0.6208302821555319, n_estimators=74, reg_alpha=0.1, reg_lambda=0.1, scale_pos_weight=1.6660257401571208, subsample=0.8780592548053132\n[CV 2/5; 1/1] END colsample_bytree=0.7053232616395468, learning_rate=0.5101631703168044, max_depth=10, min_child_weight=0.6208302821555319, n_estimators=74, reg_alpha=0.1, reg_lambda=0.1, scale_pos_weight=1.6660257401571208, subsample=0.8780592548053132;, score=0.999 total time=   9.3s\n[CV 3/5; 1/1] START colsample_bytree=0.7053232616395468, learning_rate=0.5101631703168044, max_depth=10, min_child_weight=0.6208302821555319, n_estimators=74, reg_alpha=0.1, reg_lambda=0.1, scale_pos_weight=1.6660257401571208, subsample=0.8780592548053132\n[CV 3/5; 1/1] END colsample_bytree=0.7053232616395468, learning_rate=0.5101631703168044, max_depth=10, min_child_weight=0.6208302821555319, n_estimators=74, reg_alpha=0.1, reg_lambda=0.1, scale_pos_weight=1.6660257401571208, subsample=0.8780592548053132;, score=0.999 total time=   9.3s\n[CV 4/5; 1/1] START colsample_bytree=0.7053232616395468, learning_rate=0.5101631703168044, max_depth=10, min_child_weight=0.6208302821555319, n_estimators=74, reg_alpha=0.1, reg_lambda=0.1, scale_pos_weight=1.6660257401571208, subsample=0.8780592548053132\n[CV 4/5; 1/1] END colsample_bytree=0.7053232616395468, learning_rate=0.5101631703168044, max_depth=10, min_child_weight=0.6208302821555319, n_estimators=74, reg_alpha=0.1, reg_lambda=0.1, scale_pos_weight=1.6660257401571208, subsample=0.8780592548053132;, score=0.999 total time=   9.7s\n[CV 5/5; 1/1] START colsample_bytree=0.7053232616395468, learning_rate=0.5101631703168044, max_depth=10, min_child_weight=0.6208302821555319, n_estimators=74, reg_alpha=0.1, reg_lambda=0.1, scale_pos_weight=1.6660257401571208, subsample=0.8780592548053132\n[CV 5/5; 1/1] END colsample_bytree=0.7053232616395468, learning_rate=0.5101631703168044, max_depth=10, min_child_weight=0.6208302821555319, n_estimators=74, reg_alpha=0.1, reg_lambda=0.1, scale_pos_weight=1.6660257401571208, subsample=0.8780592548053132;, score=0.999 total time=   9.6s\nFitting 5 folds for each of 1 candidates, totalling 5 fits\n[CV 1/5; 1/1] START colsample_bytree=0.848787918226713, learning_rate=0.8655791748308466, max_depth=10, min_child_weight=0.4228216029879842, n_estimators=3912, reg_alpha=0.01, reg_lambda=0.01, scale_pos_weight=1.461759255453365, subsample=0.7350930412207114\n[CV 1/5; 1/1] END colsample_bytree=0.848787918226713, learning_rate=0.8655791748308466, max_depth=10, min_child_weight=0.4228216029879842, n_estimators=3912, reg_alpha=0.01, reg_lambda=0.01, scale_pos_weight=1.461759255453365, subsample=0.7350930412207114;, score=0.999 total time= 3.5min\n[CV 2/5; 1/1] START colsample_bytree=0.848787918226713, learning_rate=0.8655791748308466, max_depth=10, min_child_weight=0.4228216029879842, n_estimators=3912, reg_alpha=0.01, reg_lambda=0.01, scale_pos_weight=1.461759255453365, subsample=0.7350930412207114\n[CV 2/5; 1/1] END colsample_bytree=0.848787918226713, learning_rate=0.8655791748308466, max_depth=10, min_child_weight=0.4228216029879842, n_estimators=3912, reg_alpha=0.01, reg_lambda=0.01, scale_pos_weight=1.461759255453365, subsample=0.7350930412207114;, score=0.999 total time= 3.6min\n[CV 3/5; 1/1] START colsample_bytree=0.848787918226713, learning_rate=0.8655791748308466, max_depth=10, min_child_weight=0.4228216029879842, n_estimators=3912, reg_alpha=0.01, reg_lambda=0.01, scale_pos_weight=1.461759255453365, subsample=0.7350930412207114\n[CV 3/5; 1/1] END colsample_bytree=0.848787918226713, learning_rate=0.8655791748308466, max_depth=10, min_child_weight=0.4228216029879842, n_estimators=3912, reg_alpha=0.01, reg_lambda=0.01, scale_pos_weight=1.461759255453365, subsample=0.7350930412207114;, score=0.999 total time= 3.5min\n[CV 4/5; 1/1] START colsample_bytree=0.848787918226713, learning_rate=0.8655791748308466, max_depth=10, min_child_weight=0.4228216029879842, n_estimators=3912, reg_alpha=0.01, reg_lambda=0.01, scale_pos_weight=1.461759255453365, subsample=0.7350930412207114\n[CV 4/5; 1/1] END colsample_bytree=0.848787918226713, learning_rate=0.8655791748308466, max_depth=10, min_child_weight=0.4228216029879842, n_estimators=3912, reg_alpha=0.01, reg_lambda=0.01, scale_pos_weight=1.461759255453365, subsample=0.7350930412207114;, score=0.999 total time= 3.3min\n[CV 5/5; 1/1] START colsample_bytree=0.848787918226713, learning_rate=0.8655791748308466, max_depth=10, min_child_weight=0.4228216029879842, n_estimators=3912, reg_alpha=0.01, reg_lambda=0.01, scale_pos_weight=1.461759255453365, subsample=0.7350930412207114\n[CV 5/5; 1/1] END colsample_bytree=0.848787918226713, learning_rate=0.8655791748308466, max_depth=10, min_child_weight=0.4228216029879842, n_estimators=3912, reg_alpha=0.01, reg_lambda=0.01, scale_pos_weight=1.461759255453365, subsample=0.7350930412207114;, score=0.999 total time= 3.3min\nFitting 5 folds for each of 1 candidates, totalling 5 fits\n[CV 1/5; 1/1] START colsample_bytree=0.9285085837923935, learning_rate=0.5539532158515084, max_depth=15, min_child_weight=0.7511863581452141, n_estimators=936, reg_alpha=0.01, reg_lambda=0.01, scale_pos_weight=3.779490681733866, subsample=0.1440724245351554\n[CV 1/5; 1/1] END colsample_bytree=0.9285085837923935, learning_rate=0.5539532158515084, max_depth=15, min_child_weight=0.7511863581452141, n_estimators=936, reg_alpha=0.01, reg_lambda=0.01, scale_pos_weight=3.779490681733866, subsample=0.1440724245351554;, score=0.998 total time=  45.3s\n[CV 2/5; 1/1] START colsample_bytree=0.9285085837923935, learning_rate=0.5539532158515084, max_depth=15, min_child_weight=0.7511863581452141, n_estimators=936, reg_alpha=0.01, reg_lambda=0.01, scale_pos_weight=3.779490681733866, subsample=0.1440724245351554\n[CV 2/5; 1/1] END colsample_bytree=0.9285085837923935, learning_rate=0.5539532158515084, max_depth=15, min_child_weight=0.7511863581452141, n_estimators=936, reg_alpha=0.01, reg_lambda=0.01, scale_pos_weight=3.779490681733866, subsample=0.1440724245351554;, score=0.998 total time=  44.4s\n[CV 3/5; 1/1] START colsample_bytree=0.9285085837923935, learning_rate=0.5539532158515084, max_depth=15, min_child_weight=0.7511863581452141, n_estimators=936, reg_alpha=0.01, reg_lambda=0.01, scale_pos_weight=3.779490681733866, subsample=0.1440724245351554\n[CV 3/5; 1/1] END colsample_bytree=0.9285085837923935, learning_rate=0.5539532158515084, max_depth=15, min_child_weight=0.7511863581452141, n_estimators=936, reg_alpha=0.01, reg_lambda=0.01, scale_pos_weight=3.779490681733866, subsample=0.1440724245351554;, score=0.998 total time=  45.8s\n[CV 4/5; 1/1] START colsample_bytree=0.9285085837923935, learning_rate=0.5539532158515084, max_depth=15, min_child_weight=0.7511863581452141, n_estimators=936, reg_alpha=0.01, reg_lambda=0.01, scale_pos_weight=3.779490681733866, subsample=0.1440724245351554\n[CV 4/5; 1/1] END colsample_bytree=0.9285085837923935, learning_rate=0.5539532158515084, max_depth=15, min_child_weight=0.7511863581452141, n_estimators=936, reg_alpha=0.01, reg_lambda=0.01, scale_pos_weight=3.779490681733866, subsample=0.1440724245351554;, score=0.998 total time=  45.3s\n[CV 5/5; 1/1] START colsample_bytree=0.9285085837923935, learning_rate=0.5539532158515084, max_depth=15, min_child_weight=0.7511863581452141, n_estimators=936, reg_alpha=0.01, reg_lambda=0.01, scale_pos_weight=3.779490681733866, subsample=0.1440724245351554\n[CV 5/5; 1/1] END colsample_bytree=0.9285085837923935, learning_rate=0.5539532158515084, max_depth=15, min_child_weight=0.7511863581452141, n_estimators=936, reg_alpha=0.01, reg_lambda=0.01, scale_pos_weight=3.779490681733866, subsample=0.1440724245351554;, score=0.998 total time=  45.3s\nFitting 5 folds for each of 1 candidates, totalling 5 fits\n[CV 1/5; 1/1] START colsample_bytree=0.49309299633453885, learning_rate=0.09082965940463038, max_depth=10, min_child_weight=1.0, n_estimators=694, reg_alpha=0.1, reg_lambda=1.0, scale_pos_weight=4.684705352159883, subsample=1.0\n[CV 1/5; 1/1] END colsample_bytree=0.49309299633453885, learning_rate=0.09082965940463038, max_depth=10, min_child_weight=1.0, n_estimators=694, reg_alpha=0.1, reg_lambda=1.0, scale_pos_weight=4.684705352159883, subsample=1.0;, score=0.999 total time=  45.1s\n[CV 2/5; 1/1] START colsample_bytree=0.49309299633453885, learning_rate=0.09082965940463038, max_depth=10, min_child_weight=1.0, n_estimators=694, reg_alpha=0.1, reg_lambda=1.0, scale_pos_weight=4.684705352159883, subsample=1.0\n[CV 2/5; 1/1] END colsample_bytree=0.49309299633453885, learning_rate=0.09082965940463038, max_depth=10, min_child_weight=1.0, n_estimators=694, reg_alpha=0.1, reg_lambda=1.0, scale_pos_weight=4.684705352159883, subsample=1.0;, score=0.999 total time=  44.7s\n[CV 3/5; 1/1] START colsample_bytree=0.49309299633453885, learning_rate=0.09082965940463038, max_depth=10, min_child_weight=1.0, n_estimators=694, reg_alpha=0.1, reg_lambda=1.0, scale_pos_weight=4.684705352159883, subsample=1.0\n[CV 3/5; 1/1] END colsample_bytree=0.49309299633453885, learning_rate=0.09082965940463038, max_depth=10, min_child_weight=1.0, n_estimators=694, reg_alpha=0.1, reg_lambda=1.0, scale_pos_weight=4.684705352159883, subsample=1.0;, score=0.999 total time=  45.6s\n[CV 4/5; 1/1] START colsample_bytree=0.49309299633453885, learning_rate=0.09082965940463038, max_depth=10, min_child_weight=1.0, n_estimators=694, reg_alpha=0.1, reg_lambda=1.0, scale_pos_weight=4.684705352159883, subsample=1.0\n[CV 4/5; 1/1] END colsample_bytree=0.49309299633453885, learning_rate=0.09082965940463038, max_depth=10, min_child_weight=1.0, n_estimators=694, reg_alpha=0.1, reg_lambda=1.0, scale_pos_weight=4.684705352159883, subsample=1.0;, score=0.999 total time=  44.9s\n[CV 5/5; 1/1] START colsample_bytree=0.49309299633453885, learning_rate=0.09082965940463038, max_depth=10, min_child_weight=1.0, n_estimators=694, reg_alpha=0.1, reg_lambda=1.0, scale_pos_weight=4.684705352159883, subsample=1.0\n[CV 5/5; 1/1] END colsample_bytree=0.49309299633453885, learning_rate=0.09082965940463038, max_depth=10, min_child_weight=1.0, n_estimators=694, reg_alpha=0.1, reg_lambda=1.0, scale_pos_weight=4.684705352159883, subsample=1.0;, score=0.999 total time=  45.4s\nFitting 5 folds for each of 1 candidates, totalling 5 fits\n[CV 1/5; 1/1] START colsample_bytree=0.5168126160731492, learning_rate=0.01, max_depth=15, min_child_weight=1.0, n_estimators=50, reg_alpha=100.0, reg_lambda=0.01, scale_pos_weight=1.0, subsample=1.0\n[CV 1/5; 1/1] END colsample_bytree=0.5168126160731492, learning_rate=0.01, max_depth=15, min_child_weight=1.0, n_estimators=50, reg_alpha=100.0, reg_lambda=0.01, scale_pos_weight=1.0, subsample=1.0;, score=0.997 total time=   6.7s\n[CV 2/5; 1/1] START colsample_bytree=0.5168126160731492, learning_rate=0.01, max_depth=15, min_child_weight=1.0, n_estimators=50, reg_alpha=100.0, reg_lambda=0.01, scale_pos_weight=1.0, subsample=1.0\n[CV 2/5; 1/1] END colsample_bytree=0.5168126160731492, learning_rate=0.01, max_depth=15, min_child_weight=1.0, n_estimators=50, reg_alpha=100.0, reg_lambda=0.01, scale_pos_weight=1.0, subsample=1.0;, score=0.996 total time=   6.7s\n[CV 3/5; 1/1] START colsample_bytree=0.5168126160731492, learning_rate=0.01, max_depth=15, min_child_weight=1.0, n_estimators=50, reg_alpha=100.0, reg_lambda=0.01, scale_pos_weight=1.0, subsample=1.0\n[CV 3/5; 1/1] END colsample_bytree=0.5168126160731492, learning_rate=0.01, max_depth=15, min_child_weight=1.0, n_estimators=50, reg_alpha=100.0, reg_lambda=0.01, scale_pos_weight=1.0, subsample=1.0;, score=0.996 total time=   6.5s\n[CV 4/5; 1/1] START colsample_bytree=0.5168126160731492, learning_rate=0.01, max_depth=15, min_child_weight=1.0, n_estimators=50, reg_alpha=100.0, reg_lambda=0.01, scale_pos_weight=1.0, subsample=1.0\n[CV 4/5; 1/1] END colsample_bytree=0.5168126160731492, learning_rate=0.01, max_depth=15, min_child_weight=1.0, n_estimators=50, reg_alpha=100.0, reg_lambda=0.01, scale_pos_weight=1.0, subsample=1.0;, score=0.996 total time=   7.2s\n[CV 5/5; 1/1] START colsample_bytree=0.5168126160731492, learning_rate=0.01, max_depth=15, min_child_weight=1.0, n_estimators=50, reg_alpha=100.0, reg_lambda=0.01, scale_pos_weight=1.0, subsample=1.0\n[CV 5/5; 1/1] END colsample_bytree=0.5168126160731492, learning_rate=0.01, max_depth=15, min_child_weight=1.0, n_estimators=50, reg_alpha=100.0, reg_lambda=0.01, scale_pos_weight=1.0, subsample=1.0;, score=0.996 total time=   6.5s\nFitting 5 folds for each of 1 candidates, totalling 5 fits\n[CV 1/5; 1/1] START colsample_bytree=0.20489178338581307, learning_rate=0.07824088040791469, max_depth=10, min_child_weight=0.5321738342663228, n_estimators=144, reg_alpha=1.0, reg_lambda=0.1, scale_pos_weight=4.966577182411955, subsample=0.890955677102214\n[CV 1/5; 1/1] END colsample_bytree=0.20489178338581307, learning_rate=0.07824088040791469, max_depth=10, min_child_weight=0.5321738342663228, n_estimators=144, reg_alpha=1.0, reg_lambda=0.1, scale_pos_weight=4.966577182411955, subsample=0.890955677102214;, score=0.998 total time=  14.3s\n[CV 2/5; 1/1] START colsample_bytree=0.20489178338581307, learning_rate=0.07824088040791469, max_depth=10, min_child_weight=0.5321738342663228, n_estimators=144, reg_alpha=1.0, reg_lambda=0.1, scale_pos_weight=4.966577182411955, subsample=0.890955677102214\n[CV 2/5; 1/1] END colsample_bytree=0.20489178338581307, learning_rate=0.07824088040791469, max_depth=10, min_child_weight=0.5321738342663228, n_estimators=144, reg_alpha=1.0, reg_lambda=0.1, scale_pos_weight=4.966577182411955, subsample=0.890955677102214;, score=0.999 total time=  14.6s\n[CV 3/5; 1/1] START colsample_bytree=0.20489178338581307, learning_rate=0.07824088040791469, max_depth=10, min_child_weight=0.5321738342663228, n_estimators=144, reg_alpha=1.0, reg_lambda=0.1, scale_pos_weight=4.966577182411955, subsample=0.890955677102214\n[CV 3/5; 1/1] END colsample_bytree=0.20489178338581307, learning_rate=0.07824088040791469, max_depth=10, min_child_weight=0.5321738342663228, n_estimators=144, reg_alpha=1.0, reg_lambda=0.1, scale_pos_weight=4.966577182411955, subsample=0.890955677102214;, score=0.998 total time=  14.9s\n[CV 4/5; 1/1] START colsample_bytree=0.20489178338581307, learning_rate=0.07824088040791469, max_depth=10, min_child_weight=0.5321738342663228, n_estimators=144, reg_alpha=1.0, reg_lambda=0.1, scale_pos_weight=4.966577182411955, subsample=0.890955677102214\n[CV 4/5; 1/1] END colsample_bytree=0.20489178338581307, learning_rate=0.07824088040791469, max_depth=10, min_child_weight=0.5321738342663228, n_estimators=144, reg_alpha=1.0, reg_lambda=0.1, scale_pos_weight=4.966577182411955, subsample=0.890955677102214;, score=0.999 total time=  14.5s\n[CV 5/5; 1/1] START colsample_bytree=0.20489178338581307, learning_rate=0.07824088040791469, max_depth=10, min_child_weight=0.5321738342663228, n_estimators=144, reg_alpha=1.0, reg_lambda=0.1, scale_pos_weight=4.966577182411955, subsample=0.890955677102214\n[CV 5/5; 1/1] END colsample_bytree=0.20489178338581307, learning_rate=0.07824088040791469, max_depth=10, min_child_weight=0.5321738342663228, n_estimators=144, reg_alpha=1.0, reg_lambda=0.1, scale_pos_weight=4.966577182411955, subsample=0.890955677102214;, score=0.998 total time=  14.4s\nFitting 5 folds for each of 1 candidates, totalling 5 fits\n[CV 1/5; 1/1] START colsample_bytree=0.133633234844452, learning_rate=0.19367634932694242, max_depth=15, min_child_weight=0.9990683516671579, n_estimators=4955, reg_alpha=100.0, reg_lambda=1.0, scale_pos_weight=4.871101022498133, subsample=0.98923073811626\n[CV 1/5; 1/1] END colsample_bytree=0.133633234844452, learning_rate=0.19367634932694242, max_depth=15, min_child_weight=0.9990683516671579, n_estimators=4955, reg_alpha=100.0, reg_lambda=1.0, scale_pos_weight=4.871101022498133, subsample=0.98923073811626;, score=0.998 total time= 1.3min\n[CV 2/5; 1/1] START colsample_bytree=0.133633234844452, learning_rate=0.19367634932694242, max_depth=15, min_child_weight=0.9990683516671579, n_estimators=4955, reg_alpha=100.0, reg_lambda=1.0, scale_pos_weight=4.871101022498133, subsample=0.98923073811626\n[CV 2/5; 1/1] END colsample_bytree=0.133633234844452, learning_rate=0.19367634932694242, max_depth=15, min_child_weight=0.9990683516671579, n_estimators=4955, reg_alpha=100.0, reg_lambda=1.0, scale_pos_weight=4.871101022498133, subsample=0.98923073811626;, score=0.998 total time= 1.2min\n[CV 3/5; 1/1] START colsample_bytree=0.133633234844452, learning_rate=0.19367634932694242, max_depth=15, min_child_weight=0.9990683516671579, n_estimators=4955, reg_alpha=100.0, reg_lambda=1.0, scale_pos_weight=4.871101022498133, subsample=0.98923073811626\n[CV 3/5; 1/1] END colsample_bytree=0.133633234844452, learning_rate=0.19367634932694242, max_depth=15, min_child_weight=0.9990683516671579, n_estimators=4955, reg_alpha=100.0, reg_lambda=1.0, scale_pos_weight=4.871101022498133, subsample=0.98923073811626;, score=0.998 total time= 1.2min\n[CV 4/5; 1/1] START colsample_bytree=0.133633234844452, learning_rate=0.19367634932694242, max_depth=15, min_child_weight=0.9990683516671579, n_estimators=4955, reg_alpha=100.0, reg_lambda=1.0, scale_pos_weight=4.871101022498133, subsample=0.98923073811626\n[CV 4/5; 1/1] END colsample_bytree=0.133633234844452, learning_rate=0.19367634932694242, max_depth=15, min_child_weight=0.9990683516671579, n_estimators=4955, reg_alpha=100.0, reg_lambda=1.0, scale_pos_weight=4.871101022498133, subsample=0.98923073811626;, score=0.998 total time= 1.3min\n[CV 5/5; 1/1] START colsample_bytree=0.133633234844452, learning_rate=0.19367634932694242, max_depth=15, min_child_weight=0.9990683516671579, n_estimators=4955, reg_alpha=100.0, reg_lambda=1.0, scale_pos_weight=4.871101022498133, subsample=0.98923073811626\n[CV 5/5; 1/1] END colsample_bytree=0.133633234844452, learning_rate=0.19367634932694242, max_depth=15, min_child_weight=0.9990683516671579, n_estimators=4955, reg_alpha=100.0, reg_lambda=1.0, scale_pos_weight=4.871101022498133, subsample=0.98923073811626;, score=0.998 total time= 1.2min\nFitting 5 folds for each of 1 candidates, totalling 5 fits\n[CV 1/5; 1/1] START colsample_bytree=0.8964273787905681, learning_rate=0.23817413639996152, max_depth=20, min_child_weight=0.1019716413950566, n_estimators=2212, reg_alpha=0.01, reg_lambda=0.5, scale_pos_weight=1.080748284151091, subsample=0.43989140861815446\n[CV 1/5; 1/1] END colsample_bytree=0.8964273787905681, learning_rate=0.23817413639996152, max_depth=20, min_child_weight=0.1019716413950566, n_estimators=2212, reg_alpha=0.01, reg_lambda=0.5, scale_pos_weight=1.080748284151091, subsample=0.43989140861815446;, score=0.999 total time= 2.8min\n[CV 2/5; 1/1] START colsample_bytree=0.8964273787905681, learning_rate=0.23817413639996152, max_depth=20, min_child_weight=0.1019716413950566, n_estimators=2212, reg_alpha=0.01, reg_lambda=0.5, scale_pos_weight=1.080748284151091, subsample=0.43989140861815446\n[CV 2/5; 1/1] END colsample_bytree=0.8964273787905681, learning_rate=0.23817413639996152, max_depth=20, min_child_weight=0.1019716413950566, n_estimators=2212, reg_alpha=0.01, reg_lambda=0.5, scale_pos_weight=1.080748284151091, subsample=0.43989140861815446;, score=0.999 total time= 2.9min\n[CV 3/5; 1/1] START colsample_bytree=0.8964273787905681, learning_rate=0.23817413639996152, max_depth=20, min_child_weight=0.1019716413950566, n_estimators=2212, reg_alpha=0.01, reg_lambda=0.5, scale_pos_weight=1.080748284151091, subsample=0.43989140861815446\n[CV 3/5; 1/1] END colsample_bytree=0.8964273787905681, learning_rate=0.23817413639996152, max_depth=20, min_child_weight=0.1019716413950566, n_estimators=2212, reg_alpha=0.01, reg_lambda=0.5, scale_pos_weight=1.080748284151091, subsample=0.43989140861815446;, score=0.999 total time= 2.9min\n[CV 4/5; 1/1] START colsample_bytree=0.8964273787905681, learning_rate=0.23817413639996152, max_depth=20, min_child_weight=0.1019716413950566, n_estimators=2212, reg_alpha=0.01, reg_lambda=0.5, scale_pos_weight=1.080748284151091, subsample=0.43989140861815446\n[CV 4/5; 1/1] END colsample_bytree=0.8964273787905681, learning_rate=0.23817413639996152, max_depth=20, min_child_weight=0.1019716413950566, n_estimators=2212, reg_alpha=0.01, reg_lambda=0.5, scale_pos_weight=1.080748284151091, subsample=0.43989140861815446;, score=0.999 total time= 2.8min\n[CV 5/5; 1/1] START colsample_bytree=0.8964273787905681, learning_rate=0.23817413639996152, max_depth=20, min_child_weight=0.1019716413950566, n_estimators=2212, reg_alpha=0.01, reg_lambda=0.5, scale_pos_weight=1.080748284151091, subsample=0.43989140861815446\n[CV 5/5; 1/1] END colsample_bytree=0.8964273787905681, learning_rate=0.23817413639996152, max_depth=20, min_child_weight=0.1019716413950566, n_estimators=2212, reg_alpha=0.01, reg_lambda=0.5, scale_pos_weight=1.080748284151091, subsample=0.43989140861815446;, score=0.999 total time= 2.8min\nXGBoost took 5641.64 seconds,  candidates checked: 15, best CV score: 0.999 ± 0.000\nBest parameters:\nOrderedDict([('colsample_bytree', 0.49309299633453885),\n             ('learning_rate', 0.09082965940463038),\n             ('max_depth', 10),\n             ('min_child_weight', 1.0),\n             ('n_estimators', 694),\n             ('reg_alpha', 0.1),\n             ('reg_lambda', 1.0),\n             ('scale_pos_weight', 4.684705352159883),\n             ('subsample', 1.0)])\n\n",
          "output_type": "stream"
        }
      ]
    },
    {
      "cell_type": "code",
      "source": [
        "# XGBoost took 5641.64 seconds,  candidates checked: 15, best CV score: 0.999 ± 0.000\n",
        "# Best parameters:\n",
        "# OrderedDict([('colsample_bytree', 0.49309299633453885),\n",
        "#              ('learning_rate', 0.09082965940463038),\n",
        "#              ('max_depth', 10),\n",
        "#              ('min_child_weight', 1.0),\n",
        "#              ('n_estimators', 694),\n",
        "#              ('reg_alpha', 0.1),\n",
        "#              ('reg_lambda', 1.0),\n",
        "#              ('scale_pos_weight', 4.684705352159883),\n",
        "#              ('subsample', 1.0)])"
      ],
      "metadata": {
        "id": "V9t070U-xcun"
      },
      "execution_count": null,
      "outputs": []
    },
    {
      "cell_type": "code",
      "source": [
        "# XGBoost took 5712.47 seconds,  candidates checked: 20, best CV score: 0.999 ± 0.000\n",
        "# Best parameters:\n",
        "# OrderedDict([('colsample_bytree', 0.9800746585396013),\n",
        "#              ('learning_rate', 0.457783799773815),\n",
        "#              ('max_depth', 9),\n",
        "#              ('min_child_weight', 1.0),\n",
        "#              ('n_estimators', 914),\n",
        "#              ('reg_alpha', 1e-09),\n",
        "#              ('reg_lambda', 47.5195350807618),\n",
        "#              ('scale_pos_weight', 1.0),\n",
        "#              ('subsample', 0.1)])"
      ],
      "metadata": {
        "id": "JylfkEduxcuo"
      },
      "execution_count": null,
      "outputs": []
    },
    {
      "cell_type": "code",
      "source": [
        "# XGBoost took 5495.43 seconds,  candidates checked: 16, best CV score: 0.997 ± 0.000\n",
        "# Best parameters:\n",
        "# OrderedDict([('colsample_bytree', 0.15569361722252437),\n",
        "#              ('learning_rate', 0.7899908604656738),\n",
        "#              ('max_depth', 2),\n",
        "#              ('min_child_weight', 0.37591294734973124),\n",
        "#              ('n_estimators', 2025),\n",
        "#              ('reg_alpha', 76.19673390459751),\n",
        "#              ('reg_lambda', 85.3733612786091),\n",
        "#              ('scale_pos_weight', 1.0436905638007108),\n",
        "#              ('subsample', 0.8999097103727699)])"
      ],
      "metadata": {
        "id": "hrO0bDstxcuo"
      },
      "execution_count": null,
      "outputs": []
    },
    {
      "cell_type": "code",
      "source": [
        "# categ_feat_idx=[ 1,  2,  3,  4,  5,  6,  7,  8,  9, 10, 11, 12, 13, 14, 15, 16, 17,\n",
        "#        20, 25]"
      ],
      "metadata": {
        "execution": {
          "iopub.status.busy": "2022-10-29T18:29:55.866285Z",
          "iopub.execute_input": "2022-10-29T18:29:55.866664Z",
          "iopub.status.idle": "2022-10-29T18:29:55.871446Z",
          "shell.execute_reply.started": "2022-10-29T18:29:55.866633Z",
          "shell.execute_reply": "2022-10-29T18:29:55.870511Z"
        },
        "trusted": true,
        "id": "80z-QOutxcuu"
      },
      "execution_count": null,
      "outputs": []
    }
  ]
}